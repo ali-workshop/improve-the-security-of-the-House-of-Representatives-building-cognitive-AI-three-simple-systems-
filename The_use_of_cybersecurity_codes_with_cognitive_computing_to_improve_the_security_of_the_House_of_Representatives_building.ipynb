{
  "nbformat": 4,
  "nbformat_minor": 0,
  "metadata": {
    "colab": {
      "provenance": [],
      "gpuType": "T4",
      "authorship_tag": "ABX9TyPxl1GyzaaZ4qO4TGse2Uss",
      "include_colab_link": true
    },
    "kernelspec": {
      "name": "python3",
      "display_name": "Python 3"
    },
    "language_info": {
      "name": "python"
    },
    "accelerator": "GPU"
  },
  "cells": [
    {
      "cell_type": "markdown",
      "metadata": {
        "id": "view-in-github",
        "colab_type": "text"
      },
      "source": [
        "<a href=\"https://colab.research.google.com/github/ali-workshop/improve-the-security-of-the-House-of-Representatives-building-cognitive-AI-three-simple-systems-/blob/main/The_use_of_cybersecurity_codes_with_cognitive_computing_to_improve_the_security_of_the_House_of_Representatives_building.ipynb\" target=\"_parent\"><img src=\"https://colab.research.google.com/assets/colab-badge.svg\" alt=\"Open In Colab\"/></a>"
      ]
    },
    {
      "cell_type": "markdown",
      "source": [
        "The House of Representatives building, as a cornerstone of democratic governance, is particularly vulnerable to cyber threats. This research endeavors to fortify the defenses against such threats through the amalgamation of a physical security system comprising Vicon sensors and facial recognition cameras, coupled with the analysis of Border Gateway Protocol (BGP) data, culminating in the development of a robust and all-encompassing Cyber-Physical System (CPS).\n",
        "\n",
        "In the practical implementation of this system, Vicon sensors meticulously capture the physical movements within the House of Representatives building from multiple points and angles. Subsequently, cloud computing is employed to scrutinize the sensor data, providing an initial assessment of an individual's behavior as either aggressive or normal.\n",
        "\n",
        "Simultaneously, surveillance cameras strategically positioned throughout the building focus on collecting facial features. These specialized cameras transmit images to an intelligent system that leverages cognitive computing for the final judgment on an individual's behavior. This two-pronged approach, integrating physical movement analysis and facial feature recognition, enhances the system's accuracy in behavioral assessment.\n",
        "\n",
        "To harmonize the cyber (computing and communication) and physical (sensors, actuators, and processes components)\n",
        "communication and routing protocols are monitored closely. This entails the examination of the BGP protocol, a border gateway protocol responsible for dynamically managing data and controlling routing and communication protocols. Cognitive computing is employed in this context to identify and categorize cyber attacks on the network infrastructure surrounding the House of Representatives building.\n",
        "\n",
        "By integrating and analyzing BGP data within the CPS, a comprehensive understanding of both physical and network security is achieved. This integrated CPS system stands poised to provide accurate and layered protection for the House of Representatives, encompassing both the physical and cyber dimensions of security."
      ],
      "metadata": {
        "id": "9593_2qGGib2"
      }
    },
    {
      "cell_type": "markdown",
      "source": [
        "#import important libraries"
      ],
      "metadata": {
        "id": "QEs8RXNKnGZP"
      }
    },
    {
      "cell_type": "code",
      "source": [
        "# Import necessary libraries\n",
        "import pandas as pd  # Pandas for data manipulation and analysis\n",
        "import numpy as np   # NumPy for numerical operations\n",
        "import matplotlib.pyplot as plt   # Matplotlib for plotting\n",
        "import seaborn as sns   # Seaborn for statistical data visualization\n",
        "import plotly.express as px   # Plotly Express for interactive visualizations\n",
        "\n",
        "# Import TensorFlow and related modules for deep learning tasks\n",
        "import tensorflow as tf   # TensorFlow for machine learning tasks\n",
        "from tensorflow.keras.preprocessing.image import ImageDataGenerator   # ImageDataGenerator for data augmentation\n",
        "from tensorflow.keras.utils import to_categorical   # to_categorical for one-hot encoding\n",
        "\n",
        "# Import scikit-learn modules for machine learning metrics and preprocessing\n",
        "from sklearn.metrics import confusion_matrix, classification_report   # Metrics for model evaluation\n",
        "from sklearn.preprocessing import LabelBinarizer   # LabelBinarizer for converting categorical labels to binary format\n",
        "from sklearn.metrics import roc_curve, auc, roc_auc_score   # Receiver Operating Characteristic (ROC) metrics\n",
        "\n",
        "# Import IPython display for clear_output function and warnings for filtering\n",
        "from IPython.display import clear_output   # Clear output for a cleaner display\n",
        "import warnings   # Warnings for managing and handling warnings\n",
        "warnings.filterwarnings('ignore')   # Ignore warnings for a cleaner output\n"
      ],
      "metadata": {
        "id": "RfCRdRdjJf-z"
      },
      "execution_count": null,
      "outputs": []
    },
    {
      "cell_type": "markdown",
      "source": [
        "#unzip the data folder"
      ],
      "metadata": {
        "id": "eBW130UqoDyF"
      }
    },
    {
      "cell_type": "code",
      "source": [
        "!pip install rarfile\n",
        "import rarfile\n",
        "with rarfile.RarFile('/content/fear_data.rar', 'r') as rar_ref:\n",
        "    rar_ref.extractall()"
      ],
      "metadata": {
        "colab": {
          "base_uri": "https://localhost:8080/"
        },
        "id": "TA0bFtmkoDF4",
        "outputId": "31565cf3-bbc3-4dc7-851d-e870915ff3d3"
      },
      "execution_count": null,
      "outputs": [
        {
          "output_type": "stream",
          "name": "stdout",
          "text": [
            "Requirement already satisfied: rarfile in /usr/local/lib/python3.10/dist-packages (4.1)\n"
          ]
        }
      ]
    },
    {
      "cell_type": "markdown",
      "source": [
        "#set the training configurations"
      ],
      "metadata": {
        "id": "jLoEp0eqn3gs"
      }
    },
    {
      "cell_type": "code",
      "source": [
        "# Set the directories for training and testing data\n",
        "train_dir = \"/content/fear_data/train\"   # Directory path for training data\n",
        "test_dir = \"/content/fear_data/test\"     # Directory path for testing data\n",
        "\n",
        "# Set seed for reproducibility in random processes\n",
        "SEED = 12   # Seed value for random number generation\n",
        "\n",
        "# Set image dimensions for the neural network\n",
        "IMG_HEIGHT = 50   # Height of the input images\n",
        "IMG_WIDTH = 50    # Width of the input images\n",
        "\n",
        "# Set batch size for training the model\n",
        "BATCH_SIZE = 64   # Number of samples in each mini-batch\n",
        "\n",
        "# Set the number of training epochs for the initial training\n",
        "EPOCHS = 30   # Number of times the entire dataset is passed forward and backward through the neural network\n",
        "\n",
        "# Set the number of fine-tuning epochs for transfer learning\n",
        "FINE_TUNING_EPOCHS = 20   # Number of additional epochs for fine-tuning after initial training\n",
        "\n",
        "# Set the learning rate for the optimizer\n",
        "LR = 0.01   # Learning rate for the optimizer\n",
        "\n",
        "# Set the total number of classes in the classification task\n",
        "NUM_CLASSES = 2  # Number of classes (categories) in the dataset\n",
        "\n",
        "# Set the early stopping criteria to prevent overfitting\n",
        "EARLY_STOPPING_CRITERIA = 3   # Number of epochs with no improvement after which training will be stopped\n",
        "\n",
        "# Define the class labels for the emotions 'Anger' and 'Neutral'\n",
        "CLASS_LABELS = ['Anger', 'Neutral']   # List of class labels for the emotion categories\n"
      ],
      "metadata": {
        "id": "n2z_wGLmJmfP"
      },
      "execution_count": null,
      "outputs": []
    },
    {
      "cell_type": "markdown",
      "source": [
        "#read data using generators for get benifit from augmentation"
      ],
      "metadata": {
        "id": "tQW4_slxp7Yw"
      }
    },
    {
      "cell_type": "code",
      "source": [
        "\"\"\"\n",
        "Data Augmentation\n",
        "--------------------------\n",
        "rotation_range = rotates the image with the amount of degrees we provide\n",
        "width_shift_range = shifts the image randomly to the right or left along the width of the image\n",
        "height_shift range = shifts image randomly to up or below along the height of the image\n",
        "horizontal_flip = flips the image horizontally\n",
        "rescale = to scale down the pizel values in our image between 0 and 1\n",
        "zoom_range = applies random zoom to our object\n",
        "validation_split = reserves some images to be used for validation purpose\n",
        "\"\"\"\n",
        "preprocess_fun = tf.keras.applications.densenet.preprocess_input\n",
        "\n",
        "train_datagen = ImageDataGenerator(horizontal_flip=True,\n",
        "                                   width_shift_range=0.1,\n",
        "                                   height_shift_range=0.05,\n",
        "                                   rescale = 1./255,\n",
        "                                   validation_split = 0.2,\n",
        "                                   preprocessing_function=preprocess_fun\n",
        "                                  )\n",
        "test_datagen = ImageDataGenerator(rescale = 1./255,\n",
        "                                  validation_split = 0.2,\n",
        "                                  preprocessing_function=preprocess_fun)\n",
        "\n",
        "train_generator = train_datagen.flow_from_directory(directory = train_dir,\n",
        "                                                    target_size = (IMG_HEIGHT ,IMG_WIDTH),\n",
        "                                                    batch_size = BATCH_SIZE,\n",
        "                                                    shuffle  = True ,\n",
        "                                                    color_mode = \"rgb\",\n",
        "                                                    class_mode = \"categorical\",\n",
        "                                                    subset = \"training\",\n",
        "                                                    seed = 12\n",
        "                                                   )\n",
        "\n",
        "validation_generator = test_datagen.flow_from_directory(directory = train_dir,\n",
        "                                                         target_size = (IMG_HEIGHT ,IMG_WIDTH),\n",
        "                                                         batch_size = BATCH_SIZE,\n",
        "                                                         shuffle  = True ,\n",
        "                                                         color_mode = \"rgb\",\n",
        "                                                         class_mode = \"categorical\",\n",
        "                                                         subset = \"validation\",\n",
        "                                                         seed = 12\n",
        "                                                        )\n",
        "\n",
        "test_generator = test_datagen.flow_from_directory(directory = test_dir,\n",
        "                                                   target_size = (IMG_HEIGHT ,IMG_WIDTH),\n",
        "                                                    batch_size = BATCH_SIZE,\n",
        "                                                    shuffle  = False ,\n",
        "                                                    color_mode = \"rgb\",\n",
        "                                                    class_mode = \"categorical\",\n",
        "                                                    seed = 12\n",
        "                                                  )\n"
      ],
      "metadata": {
        "colab": {
          "base_uri": "https://localhost:8080/"
        },
        "id": "YV23-lB5pcn2",
        "outputId": "106e2731-f3fe-4911-8b2b-a019c5d64a7b"
      },
      "execution_count": null,
      "outputs": [
        {
          "output_type": "stream",
          "name": "stdout",
          "text": [
            "Found 7168 images belonging to 2 classes.\n",
            "Found 1792 images belonging to 2 classes.\n",
            "Found 2191 images belonging to 2 classes.\n"
          ]
        }
      ]
    },
    {
      "cell_type": "markdown",
      "source": [
        "#plot the data distributions"
      ],
      "metadata": {
        "id": "Ctuyl5qaosUq"
      }
    },
    {
      "cell_type": "code",
      "source": [
        "import plotly.express as px\n",
        "import numpy as np\n",
        "\n",
        "def plot_train_data_distribution(train_generator, class_labels):\n",
        "    \"\"\"\n",
        "    Plot the distribution of training data using Plotly Express.\n",
        "\n",
        "    Parameters:\n",
        "    - train_generator: The generator for the training data.\n",
        "    - class_labels (list): List of class labels for the emotion categories.\n",
        "\n",
        "    Returns:\n",
        "    - None (displays the Plotly Express figure).\n",
        "    \"\"\"\n",
        "\n",
        "    # Count the number of images for each class in the training data\n",
        "    class_counts = [list(train_generator.classes).count(i) for i in np.unique(train_generator.classes)]\n",
        "\n",
        "    # Create a Plotly Express bar chart\n",
        "    fig = px.bar(\n",
        "        x=class_labels,\n",
        "        y=class_counts,\n",
        "        color=np.unique(train_generator.classes),\n",
        "        color_continuous_scale=\"Emrld\"\n",
        "    )\n",
        "\n",
        "    # Update axis titles\n",
        "    fig.update_xaxes(title=\"Emotions\")\n",
        "    fig.update_yaxes(title=\"Number of Images\")\n",
        "\n",
        "    # Update layout with title and legend\n",
        "    fig.update_layout(\n",
        "        showlegend=True,\n",
        "        title={\n",
        "            'text': 'Train Data Distribution',\n",
        "            'y': 0.95,\n",
        "            'x': 0.5,\n",
        "            'xanchor': 'center',\n",
        "            'yanchor': 'top'\n",
        "        }\n",
        "    )\n",
        "\n",
        "    # Display the figure\n",
        "    fig.show()\n",
        "\n",
        "# Example usage:\n",
        "# Assuming CLASS_LABELS is defined before calling the function\n",
        "plot_train_data_distribution(train_generator, class_labels=CLASS_LABELS)\n"
      ],
      "metadata": {
        "colab": {
          "base_uri": "https://localhost:8080/",
          "height": 542
        },
        "id": "8Pz-Da_-osf5",
        "outputId": "142787e3-70b8-47dd-976c-c7a051570ff8"
      },
      "execution_count": null,
      "outputs": [
        {
          "output_type": "display_data",
          "data": {
            "text/html": [
              "<html>\n",
              "<head><meta charset=\"utf-8\" /></head>\n",
              "<body>\n",
              "    <div>            <script src=\"https://cdnjs.cloudflare.com/ajax/libs/mathjax/2.7.5/MathJax.js?config=TeX-AMS-MML_SVG\"></script><script type=\"text/javascript\">if (window.MathJax && window.MathJax.Hub && window.MathJax.Hub.Config) {window.MathJax.Hub.Config({SVG: {font: \"STIX-Web\"}});}</script>                <script type=\"text/javascript\">window.PlotlyConfig = {MathJaxConfig: 'local'};</script>\n",
              "        <script charset=\"utf-8\" src=\"https://cdn.plot.ly/plotly-2.24.1.min.js\"></script>                <div id=\"0760f823-1e2e-4df4-b49a-43978dae748d\" class=\"plotly-graph-div\" style=\"height:525px; width:100%;\"></div>            <script type=\"text/javascript\">                                    window.PLOTLYENV=window.PLOTLYENV || {};                                    if (document.getElementById(\"0760f823-1e2e-4df4-b49a-43978dae748d\")) {                    Plotly.newPlot(                        \"0760f823-1e2e-4df4-b49a-43978dae748d\",                        [{\"alignmentgroup\":\"True\",\"hovertemplate\":\"x=%{x}\\u003cbr\\u003ey=%{y}\\u003cbr\\u003ecolor=%{marker.color}\\u003cextra\\u003e\\u003c\\u002fextra\\u003e\",\"legendgroup\":\"\",\"marker\":{\"color\":[0,1],\"coloraxis\":\"coloraxis\",\"pattern\":{\"shape\":\"\"}},\"name\":\"\",\"offsetgroup\":\"\",\"orientation\":\"v\",\"showlegend\":false,\"textposition\":\"auto\",\"x\":[\"Anger\",\"Neutral\"],\"xaxis\":\"x\",\"y\":[3196,3972],\"yaxis\":\"y\",\"type\":\"bar\"}],                        {\"template\":{\"data\":{\"histogram2dcontour\":[{\"type\":\"histogram2dcontour\",\"colorbar\":{\"outlinewidth\":0,\"ticks\":\"\"},\"colorscale\":[[0.0,\"#0d0887\"],[0.1111111111111111,\"#46039f\"],[0.2222222222222222,\"#7201a8\"],[0.3333333333333333,\"#9c179e\"],[0.4444444444444444,\"#bd3786\"],[0.5555555555555556,\"#d8576b\"],[0.6666666666666666,\"#ed7953\"],[0.7777777777777778,\"#fb9f3a\"],[0.8888888888888888,\"#fdca26\"],[1.0,\"#f0f921\"]]}],\"choropleth\":[{\"type\":\"choropleth\",\"colorbar\":{\"outlinewidth\":0,\"ticks\":\"\"}}],\"histogram2d\":[{\"type\":\"histogram2d\",\"colorbar\":{\"outlinewidth\":0,\"ticks\":\"\"},\"colorscale\":[[0.0,\"#0d0887\"],[0.1111111111111111,\"#46039f\"],[0.2222222222222222,\"#7201a8\"],[0.3333333333333333,\"#9c179e\"],[0.4444444444444444,\"#bd3786\"],[0.5555555555555556,\"#d8576b\"],[0.6666666666666666,\"#ed7953\"],[0.7777777777777778,\"#fb9f3a\"],[0.8888888888888888,\"#fdca26\"],[1.0,\"#f0f921\"]]}],\"heatmap\":[{\"type\":\"heatmap\",\"colorbar\":{\"outlinewidth\":0,\"ticks\":\"\"},\"colorscale\":[[0.0,\"#0d0887\"],[0.1111111111111111,\"#46039f\"],[0.2222222222222222,\"#7201a8\"],[0.3333333333333333,\"#9c179e\"],[0.4444444444444444,\"#bd3786\"],[0.5555555555555556,\"#d8576b\"],[0.6666666666666666,\"#ed7953\"],[0.7777777777777778,\"#fb9f3a\"],[0.8888888888888888,\"#fdca26\"],[1.0,\"#f0f921\"]]}],\"heatmapgl\":[{\"type\":\"heatmapgl\",\"colorbar\":{\"outlinewidth\":0,\"ticks\":\"\"},\"colorscale\":[[0.0,\"#0d0887\"],[0.1111111111111111,\"#46039f\"],[0.2222222222222222,\"#7201a8\"],[0.3333333333333333,\"#9c179e\"],[0.4444444444444444,\"#bd3786\"],[0.5555555555555556,\"#d8576b\"],[0.6666666666666666,\"#ed7953\"],[0.7777777777777778,\"#fb9f3a\"],[0.8888888888888888,\"#fdca26\"],[1.0,\"#f0f921\"]]}],\"contourcarpet\":[{\"type\":\"contourcarpet\",\"colorbar\":{\"outlinewidth\":0,\"ticks\":\"\"}}],\"contour\":[{\"type\":\"contour\",\"colorbar\":{\"outlinewidth\":0,\"ticks\":\"\"},\"colorscale\":[[0.0,\"#0d0887\"],[0.1111111111111111,\"#46039f\"],[0.2222222222222222,\"#7201a8\"],[0.3333333333333333,\"#9c179e\"],[0.4444444444444444,\"#bd3786\"],[0.5555555555555556,\"#d8576b\"],[0.6666666666666666,\"#ed7953\"],[0.7777777777777778,\"#fb9f3a\"],[0.8888888888888888,\"#fdca26\"],[1.0,\"#f0f921\"]]}],\"surface\":[{\"type\":\"surface\",\"colorbar\":{\"outlinewidth\":0,\"ticks\":\"\"},\"colorscale\":[[0.0,\"#0d0887\"],[0.1111111111111111,\"#46039f\"],[0.2222222222222222,\"#7201a8\"],[0.3333333333333333,\"#9c179e\"],[0.4444444444444444,\"#bd3786\"],[0.5555555555555556,\"#d8576b\"],[0.6666666666666666,\"#ed7953\"],[0.7777777777777778,\"#fb9f3a\"],[0.8888888888888888,\"#fdca26\"],[1.0,\"#f0f921\"]]}],\"mesh3d\":[{\"type\":\"mesh3d\",\"colorbar\":{\"outlinewidth\":0,\"ticks\":\"\"}}],\"scatter\":[{\"fillpattern\":{\"fillmode\":\"overlay\",\"size\":10,\"solidity\":0.2},\"type\":\"scatter\"}],\"parcoords\":[{\"type\":\"parcoords\",\"line\":{\"colorbar\":{\"outlinewidth\":0,\"ticks\":\"\"}}}],\"scatterpolargl\":[{\"type\":\"scatterpolargl\",\"marker\":{\"colorbar\":{\"outlinewidth\":0,\"ticks\":\"\"}}}],\"bar\":[{\"error_x\":{\"color\":\"#2a3f5f\"},\"error_y\":{\"color\":\"#2a3f5f\"},\"marker\":{\"line\":{\"color\":\"#E5ECF6\",\"width\":0.5},\"pattern\":{\"fillmode\":\"overlay\",\"size\":10,\"solidity\":0.2}},\"type\":\"bar\"}],\"scattergeo\":[{\"type\":\"scattergeo\",\"marker\":{\"colorbar\":{\"outlinewidth\":0,\"ticks\":\"\"}}}],\"scatterpolar\":[{\"type\":\"scatterpolar\",\"marker\":{\"colorbar\":{\"outlinewidth\":0,\"ticks\":\"\"}}}],\"histogram\":[{\"marker\":{\"pattern\":{\"fillmode\":\"overlay\",\"size\":10,\"solidity\":0.2}},\"type\":\"histogram\"}],\"scattergl\":[{\"type\":\"scattergl\",\"marker\":{\"colorbar\":{\"outlinewidth\":0,\"ticks\":\"\"}}}],\"scatter3d\":[{\"type\":\"scatter3d\",\"line\":{\"colorbar\":{\"outlinewidth\":0,\"ticks\":\"\"}},\"marker\":{\"colorbar\":{\"outlinewidth\":0,\"ticks\":\"\"}}}],\"scattermapbox\":[{\"type\":\"scattermapbox\",\"marker\":{\"colorbar\":{\"outlinewidth\":0,\"ticks\":\"\"}}}],\"scatterternary\":[{\"type\":\"scatterternary\",\"marker\":{\"colorbar\":{\"outlinewidth\":0,\"ticks\":\"\"}}}],\"scattercarpet\":[{\"type\":\"scattercarpet\",\"marker\":{\"colorbar\":{\"outlinewidth\":0,\"ticks\":\"\"}}}],\"carpet\":[{\"aaxis\":{\"endlinecolor\":\"#2a3f5f\",\"gridcolor\":\"white\",\"linecolor\":\"white\",\"minorgridcolor\":\"white\",\"startlinecolor\":\"#2a3f5f\"},\"baxis\":{\"endlinecolor\":\"#2a3f5f\",\"gridcolor\":\"white\",\"linecolor\":\"white\",\"minorgridcolor\":\"white\",\"startlinecolor\":\"#2a3f5f\"},\"type\":\"carpet\"}],\"table\":[{\"cells\":{\"fill\":{\"color\":\"#EBF0F8\"},\"line\":{\"color\":\"white\"}},\"header\":{\"fill\":{\"color\":\"#C8D4E3\"},\"line\":{\"color\":\"white\"}},\"type\":\"table\"}],\"barpolar\":[{\"marker\":{\"line\":{\"color\":\"#E5ECF6\",\"width\":0.5},\"pattern\":{\"fillmode\":\"overlay\",\"size\":10,\"solidity\":0.2}},\"type\":\"barpolar\"}],\"pie\":[{\"automargin\":true,\"type\":\"pie\"}]},\"layout\":{\"autotypenumbers\":\"strict\",\"colorway\":[\"#636efa\",\"#EF553B\",\"#00cc96\",\"#ab63fa\",\"#FFA15A\",\"#19d3f3\",\"#FF6692\",\"#B6E880\",\"#FF97FF\",\"#FECB52\"],\"font\":{\"color\":\"#2a3f5f\"},\"hovermode\":\"closest\",\"hoverlabel\":{\"align\":\"left\"},\"paper_bgcolor\":\"white\",\"plot_bgcolor\":\"#E5ECF6\",\"polar\":{\"bgcolor\":\"#E5ECF6\",\"angularaxis\":{\"gridcolor\":\"white\",\"linecolor\":\"white\",\"ticks\":\"\"},\"radialaxis\":{\"gridcolor\":\"white\",\"linecolor\":\"white\",\"ticks\":\"\"}},\"ternary\":{\"bgcolor\":\"#E5ECF6\",\"aaxis\":{\"gridcolor\":\"white\",\"linecolor\":\"white\",\"ticks\":\"\"},\"baxis\":{\"gridcolor\":\"white\",\"linecolor\":\"white\",\"ticks\":\"\"},\"caxis\":{\"gridcolor\":\"white\",\"linecolor\":\"white\",\"ticks\":\"\"}},\"coloraxis\":{\"colorbar\":{\"outlinewidth\":0,\"ticks\":\"\"}},\"colorscale\":{\"sequential\":[[0.0,\"#0d0887\"],[0.1111111111111111,\"#46039f\"],[0.2222222222222222,\"#7201a8\"],[0.3333333333333333,\"#9c179e\"],[0.4444444444444444,\"#bd3786\"],[0.5555555555555556,\"#d8576b\"],[0.6666666666666666,\"#ed7953\"],[0.7777777777777778,\"#fb9f3a\"],[0.8888888888888888,\"#fdca26\"],[1.0,\"#f0f921\"]],\"sequentialminus\":[[0.0,\"#0d0887\"],[0.1111111111111111,\"#46039f\"],[0.2222222222222222,\"#7201a8\"],[0.3333333333333333,\"#9c179e\"],[0.4444444444444444,\"#bd3786\"],[0.5555555555555556,\"#d8576b\"],[0.6666666666666666,\"#ed7953\"],[0.7777777777777778,\"#fb9f3a\"],[0.8888888888888888,\"#fdca26\"],[1.0,\"#f0f921\"]],\"diverging\":[[0,\"#8e0152\"],[0.1,\"#c51b7d\"],[0.2,\"#de77ae\"],[0.3,\"#f1b6da\"],[0.4,\"#fde0ef\"],[0.5,\"#f7f7f7\"],[0.6,\"#e6f5d0\"],[0.7,\"#b8e186\"],[0.8,\"#7fbc41\"],[0.9,\"#4d9221\"],[1,\"#276419\"]]},\"xaxis\":{\"gridcolor\":\"white\",\"linecolor\":\"white\",\"ticks\":\"\",\"title\":{\"standoff\":15},\"zerolinecolor\":\"white\",\"automargin\":true,\"zerolinewidth\":2},\"yaxis\":{\"gridcolor\":\"white\",\"linecolor\":\"white\",\"ticks\":\"\",\"title\":{\"standoff\":15},\"zerolinecolor\":\"white\",\"automargin\":true,\"zerolinewidth\":2},\"scene\":{\"xaxis\":{\"backgroundcolor\":\"#E5ECF6\",\"gridcolor\":\"white\",\"linecolor\":\"white\",\"showbackground\":true,\"ticks\":\"\",\"zerolinecolor\":\"white\",\"gridwidth\":2},\"yaxis\":{\"backgroundcolor\":\"#E5ECF6\",\"gridcolor\":\"white\",\"linecolor\":\"white\",\"showbackground\":true,\"ticks\":\"\",\"zerolinecolor\":\"white\",\"gridwidth\":2},\"zaxis\":{\"backgroundcolor\":\"#E5ECF6\",\"gridcolor\":\"white\",\"linecolor\":\"white\",\"showbackground\":true,\"ticks\":\"\",\"zerolinecolor\":\"white\",\"gridwidth\":2}},\"shapedefaults\":{\"line\":{\"color\":\"#2a3f5f\"}},\"annotationdefaults\":{\"arrowcolor\":\"#2a3f5f\",\"arrowhead\":0,\"arrowwidth\":1},\"geo\":{\"bgcolor\":\"white\",\"landcolor\":\"#E5ECF6\",\"subunitcolor\":\"white\",\"showland\":true,\"showlakes\":true,\"lakecolor\":\"white\"},\"title\":{\"x\":0.05},\"mapbox\":{\"style\":\"light\"}}},\"xaxis\":{\"anchor\":\"y\",\"domain\":[0.0,1.0],\"title\":{\"text\":\"Emotions\"}},\"yaxis\":{\"anchor\":\"x\",\"domain\":[0.0,1.0],\"title\":{\"text\":\"Number of Images\"}},\"coloraxis\":{\"colorbar\":{\"title\":{\"text\":\"color\"}},\"colorscale\":[[0.0,\"rgb(211, 242, 163)\"],[0.16666666666666666,\"rgb(151, 225, 150)\"],[0.3333333333333333,\"rgb(108, 192, 139)\"],[0.5,\"rgb(76, 155, 130)\"],[0.6666666666666666,\"rgb(33, 122, 121)\"],[0.8333333333333334,\"rgb(16, 89, 101)\"],[1.0,\"rgb(7, 64, 80)\"]]},\"legend\":{\"tracegroupgap\":0},\"margin\":{\"t\":60},\"barmode\":\"relative\",\"title\":{\"text\":\"Train Data Distribution\",\"y\":0.95,\"x\":0.5,\"xanchor\":\"center\",\"yanchor\":\"top\"},\"showlegend\":true},                        {\"responsive\": true}                    ).then(function(){\n",
              "                            \n",
              "var gd = document.getElementById('0760f823-1e2e-4df4-b49a-43978dae748d');\n",
              "var x = new MutationObserver(function (mutations, observer) {{\n",
              "        var display = window.getComputedStyle(gd).display;\n",
              "        if (!display || display === 'none') {{\n",
              "            console.log([gd, 'removed!']);\n",
              "            Plotly.purge(gd);\n",
              "            observer.disconnect();\n",
              "        }}\n",
              "}});\n",
              "\n",
              "// Listen for the removal of the full notebook cells\n",
              "var notebookContainer = gd.closest('#notebook-container');\n",
              "if (notebookContainer) {{\n",
              "    x.observe(notebookContainer, {childList: true});\n",
              "}}\n",
              "\n",
              "// Listen for the clearing of the current output cell\n",
              "var outputEl = gd.closest('.output');\n",
              "if (outputEl) {{\n",
              "    x.observe(outputEl, {childList: true});\n",
              "}}\n",
              "\n",
              "                        })                };                            </script>        </div>\n",
              "</body>\n",
              "</html>"
            ]
          },
          "metadata": {}
        }
      ]
    },
    {
      "cell_type": "markdown",
      "source": [
        "#define helper functions for modeling"
      ],
      "metadata": {
        "id": "LlPOfSgxrPmZ"
      }
    },
    {
      "cell_type": "code",
      "source": [
        "def classifier(inputs):\n",
        "    x = tf.keras.layers.GlobalAveragePooling2D()(inputs)\n",
        "    x = tf.keras.layers.Dense(256, activation=\"relu\", kernel_regularizer = tf.keras.regularizers.l2(0.01))(x)\n",
        "    x = tf.keras.layers.Dropout(0.3)(x)\n",
        "    x = tf.keras.layers.Dense(1024, activation=\"relu\", kernel_regularizer = tf.keras.regularizers.l2(0.01))(x)\n",
        "    x = tf.keras.layers.Dropout(0.5)(x)\n",
        "    x = tf.keras.layers.Dense(512, activation=\"relu\", kernel_regularizer = tf.keras.regularizers.l2(0.01))(x)\n",
        "    x = tf.keras.layers.Dropout(0.5) (x)\n",
        "    x = tf.keras.layers.Dense(NUM_CLASSES, activation=\"softmax\", name=\"classification\")(x)\n",
        "\n",
        "    return x\n",
        "\n",
        "\n",
        "\n",
        "\n",
        "def final_model(inputs):\n",
        "    densenet_feature_extractor = feature_extractor(inputs)\n",
        "    classification_output = classifier(densenet_feature_extractor)\n",
        "\n",
        "    return classification_output\n",
        "\n",
        "def feature_extractor(inputs):\n",
        "    feature_extractor = tf.keras.applications.DenseNet169(input_shape=(IMG_HEIGHT,IMG_WIDTH, 3),\n",
        "                                               include_top=False,\n",
        "                                               weights=\"imagenet\")(inputs)\n",
        "\n",
        "    return feature_extractor\n",
        "\n",
        "def define_compile_model():\n",
        "\n",
        "    inputs = tf.keras.layers.Input(shape=(IMG_HEIGHT ,IMG_WIDTH,3))\n",
        "    classification_output = final_model(inputs)\n",
        "    model = tf.keras.Model(inputs=inputs, outputs = classification_output)\n",
        "\n",
        "    model.compile(optimizer=tf.keras.optimizers.SGD(0.1),\n",
        "                loss='categorical_crossentropy',\n",
        "                metrics = ['accuracy'])\n",
        "\n",
        "    return model"
      ],
      "metadata": {
        "id": "7eu0xmbIKV4q"
      },
      "execution_count": null,
      "outputs": []
    },
    {
      "cell_type": "markdown",
      "source": [
        "#build the model"
      ],
      "metadata": {
        "id": "IsH3DDqcrMXN"
      }
    },
    {
      "cell_type": "code",
      "source": [
        "model = define_compile_model()\n",
        "clear_output()\n",
        "\n",
        "# Freezing the feature extraction layers\n",
        "model.layers[1].trainable = False\n",
        "\n",
        "model.summary()"
      ],
      "metadata": {
        "colab": {
          "base_uri": "https://localhost:8080/"
        },
        "id": "70LczBTOrLK9",
        "outputId": "065dcbfb-7c6d-4e3c-f826-8e25cf714b7c"
      },
      "execution_count": null,
      "outputs": [
        {
          "output_type": "stream",
          "name": "stdout",
          "text": [
            "Model: \"model\"\n",
            "_________________________________________________________________\n",
            " Layer (type)                Output Shape              Param #   \n",
            "=================================================================\n",
            " input_1 (InputLayer)        [(None, 50, 50, 3)]       0         \n",
            "                                                                 \n",
            " densenet169 (Functional)    (None, 1, 1, 1664)        12642880  \n",
            "                                                                 \n",
            " global_average_pooling2d (  (None, 1664)              0         \n",
            " GlobalAveragePooling2D)                                         \n",
            "                                                                 \n",
            " dense (Dense)               (None, 256)               426240    \n",
            "                                                                 \n",
            " dropout (Dropout)           (None, 256)               0         \n",
            "                                                                 \n",
            " dense_1 (Dense)             (None, 1024)              263168    \n",
            "                                                                 \n",
            " dropout_1 (Dropout)         (None, 1024)              0         \n",
            "                                                                 \n",
            " dense_2 (Dense)             (None, 512)               524800    \n",
            "                                                                 \n",
            " dropout_2 (Dropout)         (None, 512)               0         \n",
            "                                                                 \n",
            " classification (Dense)      (None, 2)                 1026      \n",
            "                                                                 \n",
            "=================================================================\n",
            "Total params: 13858114 (52.86 MB)\n",
            "Trainable params: 1215234 (4.64 MB)\n",
            "Non-trainable params: 12642880 (48.23 MB)\n",
            "_________________________________________________________________\n"
          ]
        }
      ]
    },
    {
      "cell_type": "markdown",
      "source": [
        "#train the model"
      ],
      "metadata": {
        "id": "Bb56Rch9rhgS"
      }
    },
    {
      "cell_type": "code",
      "source": [
        "earlyStoppingCallback = tf.keras.callbacks.EarlyStopping(monitor='val_loss',\n",
        "                                                         patience=EARLY_STOPPING_CRITERIA,\n",
        "                                                         verbose= 1 ,\n",
        "                                                         restore_best_weights=True\n",
        "                                                        )\n",
        "\n",
        "history = model.fit(x = train_generator,\n",
        "                    epochs = EPOCHS ,\n",
        "                    validation_data = validation_generator ,\n",
        "                    callbacks= [earlyStoppingCallback])\n",
        "\n",
        "history = pd.DataFrame(history.history)"
      ],
      "metadata": {
        "colab": {
          "base_uri": "https://localhost:8080/"
        },
        "id": "4BsUFWcaKbTa",
        "outputId": "0c8508aa-73a9-4fbe-a03b-2e9f3c9c72da"
      },
      "execution_count": null,
      "outputs": [
        {
          "output_type": "stream",
          "name": "stdout",
          "text": [
            "Epoch 1/30\n",
            "112/112 [==============================] - 118s 239ms/step - loss: 13.1364 - accuracy: 0.5727 - val_loss: 10.5315 - val_accuracy: 0.4554\n",
            "Epoch 2/30\n",
            "112/112 [==============================] - 23s 201ms/step - loss: 8.4978 - accuracy: 0.7252 - val_loss: 6.9787 - val_accuracy: 0.5536\n",
            "Epoch 3/30\n",
            "112/112 [==============================] - 22s 195ms/step - loss: 5.5648 - accuracy: 0.7754 - val_loss: 4.7166 - val_accuracy: 0.5530\n",
            "Epoch 4/30\n",
            "112/112 [==============================] - 20s 179ms/step - loss: 3.6944 - accuracy: 0.8013 - val_loss: 3.2999 - val_accuracy: 0.5541\n",
            "Epoch 5/30\n",
            "112/112 [==============================] - 24s 210ms/step - loss: 2.4878 - accuracy: 0.8158 - val_loss: 2.4344 - val_accuracy: 0.5541\n",
            "Epoch 6/30\n",
            "112/112 [==============================] - 20s 180ms/step - loss: 1.7158 - accuracy: 0.8322 - val_loss: 1.8749 - val_accuracy: 0.5619\n",
            "Epoch 7/30\n",
            "112/112 [==============================] - 23s 204ms/step - loss: 1.2238 - accuracy: 0.8380 - val_loss: 1.5999 - val_accuracy: 0.6166\n",
            "Epoch 8/30\n",
            "112/112 [==============================] - 20s 182ms/step - loss: 0.9056 - accuracy: 0.8528 - val_loss: 0.9574 - val_accuracy: 0.7656\n",
            "Epoch 9/30\n",
            "112/112 [==============================] - 23s 203ms/step - loss: 0.6862 - accuracy: 0.8594 - val_loss: 0.7692 - val_accuracy: 0.7757\n",
            "Epoch 10/30\n",
            "112/112 [==============================] - 21s 191ms/step - loss: 0.5511 - accuracy: 0.8659 - val_loss: 0.6253 - val_accuracy: 0.8136\n",
            "Epoch 11/30\n",
            "112/112 [==============================] - 33s 294ms/step - loss: 0.4545 - accuracy: 0.8758 - val_loss: 0.6223 - val_accuracy: 0.8186\n",
            "Epoch 12/30\n",
            "112/112 [==============================] - 40s 350ms/step - loss: 0.3939 - accuracy: 0.8830 - val_loss: 0.5372 - val_accuracy: 0.8075\n",
            "Epoch 13/30\n",
            "112/112 [==============================] - 34s 304ms/step - loss: 0.3331 - accuracy: 0.8943 - val_loss: 0.6009 - val_accuracy: 0.7946\n",
            "Epoch 14/30\n",
            "112/112 [==============================] - 36s 313ms/step - loss: 0.3113 - accuracy: 0.8922 - val_loss: 0.6549 - val_accuracy: 0.8047\n",
            "Epoch 15/30\n",
            "112/112 [==============================] - 22s 195ms/step - loss: 0.2905 - accuracy: 0.8954 - val_loss: 0.4556 - val_accuracy: 0.8292\n",
            "Epoch 16/30\n",
            "112/112 [==============================] - 40s 353ms/step - loss: 0.2731 - accuracy: 0.9028 - val_loss: 0.4947 - val_accuracy: 0.8181\n",
            "Epoch 17/30\n",
            "112/112 [==============================] - 23s 204ms/step - loss: 0.2493 - accuracy: 0.9106 - val_loss: 0.6424 - val_accuracy: 0.8136\n",
            "Epoch 18/30\n",
            "112/112 [==============================] - ETA: 0s - loss: 0.2379 - accuracy: 0.9121Restoring model weights from the end of the best epoch: 15.\n",
            "112/112 [==============================] - 34s 307ms/step - loss: 0.2379 - accuracy: 0.9121 - val_loss: 0.6593 - val_accuracy: 0.7824\n",
            "Epoch 18: early stopping\n"
          ]
        }
      ]
    },
    {
      "cell_type": "markdown",
      "source": [
        " # Un-Freezing the first layers ( feature extraction layers) for start  fine tuning"
      ],
      "metadata": {
        "id": "TB9Unq0Ir614"
      }
    },
    {
      "cell_type": "code",
      "source": [
        "model.layers[1].trainable = True\n",
        "\n",
        "model.compile(optimizer=tf.keras.optimizers.SGD(0.001), #lower learning rate\n",
        "                loss='categorical_crossentropy',\n",
        "                metrics = ['accuracy'])\n",
        "\n",
        "history_ = model.fit(x = train_generator,epochs = FINE_TUNING_EPOCHS ,validation_data = validation_generator)\n",
        "history = history.append(pd.DataFrame(history_.history) , ignore_index=True)"
      ],
      "metadata": {
        "colab": {
          "base_uri": "https://localhost:8080/"
        },
        "id": "SvvZqf1CK_ds",
        "outputId": "e2739d66-ba71-437c-def0-6c7e8439bd49"
      },
      "execution_count": null,
      "outputs": [
        {
          "output_type": "stream",
          "name": "stdout",
          "text": [
            "Epoch 1/20\n",
            "112/112 [==============================] - 82s 247ms/step - loss: 0.2343 - accuracy: 0.9216 - val_loss: 0.4306 - val_accuracy: 0.8359\n",
            "Epoch 2/20\n",
            "112/112 [==============================] - 22s 200ms/step - loss: 0.2181 - accuracy: 0.9294 - val_loss: 0.4274 - val_accuracy: 0.8393\n",
            "Epoch 3/20\n",
            "112/112 [==============================] - 22s 193ms/step - loss: 0.2100 - accuracy: 0.9343 - val_loss: 0.4305 - val_accuracy: 0.8398\n",
            "Epoch 4/20\n",
            "112/112 [==============================] - 21s 190ms/step - loss: 0.2049 - accuracy: 0.9372 - val_loss: 0.4321 - val_accuracy: 0.8426\n",
            "Epoch 5/20\n",
            "112/112 [==============================] - 23s 203ms/step - loss: 0.2001 - accuracy: 0.9378 - val_loss: 0.4330 - val_accuracy: 0.8449\n",
            "Epoch 6/20\n",
            "112/112 [==============================] - 21s 190ms/step - loss: 0.1972 - accuracy: 0.9382 - val_loss: 0.4364 - val_accuracy: 0.8471\n",
            "Epoch 7/20\n",
            "112/112 [==============================] - 29s 262ms/step - loss: 0.1940 - accuracy: 0.9402 - val_loss: 0.4393 - val_accuracy: 0.8482\n",
            "Epoch 8/20\n",
            "112/112 [==============================] - 24s 210ms/step - loss: 0.1850 - accuracy: 0.9411 - val_loss: 0.4415 - val_accuracy: 0.8477\n",
            "Epoch 9/20\n",
            "112/112 [==============================] - 22s 192ms/step - loss: 0.1793 - accuracy: 0.9443 - val_loss: 0.4439 - val_accuracy: 0.8477\n",
            "Epoch 10/20\n",
            "112/112 [==============================] - 30s 267ms/step - loss: 0.1773 - accuracy: 0.9488 - val_loss: 0.4479 - val_accuracy: 0.8477\n",
            "Epoch 11/20\n",
            "112/112 [==============================] - 25s 225ms/step - loss: 0.1738 - accuracy: 0.9473 - val_loss: 0.4482 - val_accuracy: 0.8488\n",
            "Epoch 12/20\n",
            "112/112 [==============================] - 34s 300ms/step - loss: 0.1858 - accuracy: 0.9414 - val_loss: 0.4489 - val_accuracy: 0.8493\n",
            "Epoch 13/20\n",
            "112/112 [==============================] - 39s 352ms/step - loss: 0.1743 - accuracy: 0.9468 - val_loss: 0.4513 - val_accuracy: 0.8488\n",
            "Epoch 14/20\n",
            "112/112 [==============================] - 23s 208ms/step - loss: 0.1662 - accuracy: 0.9501 - val_loss: 0.4548 - val_accuracy: 0.8465\n",
            "Epoch 15/20\n",
            "112/112 [==============================] - 30s 264ms/step - loss: 0.1684 - accuracy: 0.9509 - val_loss: 0.4586 - val_accuracy: 0.8460\n",
            "Epoch 16/20\n",
            "112/112 [==============================] - 28s 248ms/step - loss: 0.1610 - accuracy: 0.9521 - val_loss: 0.4609 - val_accuracy: 0.8460\n",
            "Epoch 17/20\n",
            "112/112 [==============================] - 38s 334ms/step - loss: 0.1676 - accuracy: 0.9503 - val_loss: 0.4638 - val_accuracy: 0.8460\n",
            "Epoch 18/20\n",
            "112/112 [==============================] - 34s 301ms/step - loss: 0.1622 - accuracy: 0.9533 - val_loss: 0.4673 - val_accuracy: 0.8454\n",
            "Epoch 19/20\n",
            "112/112 [==============================] - 23s 205ms/step - loss: 0.1625 - accuracy: 0.9526 - val_loss: 0.4685 - val_accuracy: 0.8460\n",
            "Epoch 20/20\n",
            "112/112 [==============================] - 28s 247ms/step - loss: 0.1557 - accuracy: 0.9526 - val_loss: 0.4700 - val_accuracy: 0.8471\n"
          ]
        }
      ]
    },
    {
      "cell_type": "markdown",
      "source": [
        "#plot the results"
      ],
      "metadata": {
        "id": "AmkGiBeOwAgF"
      }
    },
    {
      "cell_type": "code",
      "source": [
        "x = px.line(data_frame= history , y= [\"accuracy\" , \"val_accuracy\"] ,markers = True )\n",
        "x.update_xaxes(title=\"Number of Epochs\")\n",
        "x.update_yaxes(title = \"Accuracy\")\n",
        "x.update_layout(showlegend = True,\n",
        "    title = {\n",
        "        'text': 'Accuracy vs Number of Epochs',\n",
        "        'y':0.94,\n",
        "        'x':0.5,\n",
        "        'xanchor': 'center',\n",
        "        'yanchor': 'top'})\n",
        "x.show()"
      ],
      "metadata": {
        "colab": {
          "base_uri": "https://localhost:8080/",
          "height": 542
        },
        "id": "L68VQoxkLFH8",
        "outputId": "539db028-6e4a-48de-aeb3-2f82b5676053"
      },
      "execution_count": null,
      "outputs": [
        {
          "output_type": "display_data",
          "data": {
            "text/html": [
              "<html>\n",
              "<head><meta charset=\"utf-8\" /></head>\n",
              "<body>\n",
              "    <div>            <script src=\"https://cdnjs.cloudflare.com/ajax/libs/mathjax/2.7.5/MathJax.js?config=TeX-AMS-MML_SVG\"></script><script type=\"text/javascript\">if (window.MathJax && window.MathJax.Hub && window.MathJax.Hub.Config) {window.MathJax.Hub.Config({SVG: {font: \"STIX-Web\"}});}</script>                <script type=\"text/javascript\">window.PlotlyConfig = {MathJaxConfig: 'local'};</script>\n",
              "        <script charset=\"utf-8\" src=\"https://cdn.plot.ly/plotly-2.24.1.min.js\"></script>                <div id=\"5d203b44-e315-45af-adbc-69f8cc71e4ee\" class=\"plotly-graph-div\" style=\"height:525px; width:100%;\"></div>            <script type=\"text/javascript\">                                    window.PLOTLYENV=window.PLOTLYENV || {};                                    if (document.getElementById(\"5d203b44-e315-45af-adbc-69f8cc71e4ee\")) {                    Plotly.newPlot(                        \"5d203b44-e315-45af-adbc-69f8cc71e4ee\",                        [{\"hovertemplate\":\"variable=accuracy\\u003cbr\\u003eindex=%{x}\\u003cbr\\u003evalue=%{y}\\u003cextra\\u003e\\u003c\\u002fextra\\u003e\",\"legendgroup\":\"accuracy\",\"line\":{\"color\":\"#636efa\",\"dash\":\"solid\"},\"marker\":{\"symbol\":\"circle\"},\"mode\":\"markers+lines\",\"name\":\"accuracy\",\"orientation\":\"v\",\"showlegend\":true,\"x\":[0,1,2,3,4,5,6,7,8,9,10,11,12,13,14,15,16,17,18,19,20,21,22,23,24,25,26,27,28,29,30,31,32,33,34,35,36,37],\"xaxis\":\"x\",\"y\":[0.5726841688156128,0.7251673936843872,0.775390625,0.8013392686843872,0.8158482313156128,0.8321707844734192,0.8380301594734192,0.8528180718421936,0.859375,0.8659319281578064,0.8758370280265808,0.8829520344734192,0.8942522406578064,0.8921595811843872,0.8953682780265808,0.9027622938156128,0.9105747938156128,0.912109375,0.9215959906578064,0.9294084906578064,0.9342913031578064,0.9372209906578064,0.9377790093421936,0.9381975531578064,0.9401506781578064,0.9411272406578064,0.9443359375,0.9488002061843872,0.947265625,0.94140625,0.9468470811843872,0.9500557780265808,0.9508928656578064,0.9521484375,0.9503348469734192,0.9532645344734192,0.9525669813156128,0.9525669813156128],\"yaxis\":\"y\",\"type\":\"scatter\"},{\"hovertemplate\":\"variable=val_accuracy\\u003cbr\\u003eindex=%{x}\\u003cbr\\u003evalue=%{y}\\u003cextra\\u003e\\u003c\\u002fextra\\u003e\",\"legendgroup\":\"val_accuracy\",\"line\":{\"color\":\"#EF553B\",\"dash\":\"solid\"},\"marker\":{\"symbol\":\"circle\"},\"mode\":\"markers+lines\",\"name\":\"val_accuracy\",\"orientation\":\"v\",\"showlegend\":true,\"x\":[0,1,2,3,4,5,6,7,8,9,10,11,12,13,14,15,16,17,18,19,20,21,22,23,24,25,26,27,28,29,30,31,32,33,34,35,36,37],\"xaxis\":\"x\",\"y\":[0.4553571343421936,0.5535714030265808,0.5530133843421936,0.5541294813156128,0.5541294813156128,0.5619419813156128,0.6166294813156128,0.765625,0.7756696343421936,0.8136160969734192,0.8186383843421936,0.8074776530265808,0.7946428656578064,0.8046875,0.8292410969734192,0.8180803656578064,0.8136160969734192,0.7823660969734192,0.8359375,0.8392857313156128,0.83984375,0.8426339030265808,0.8448660969734192,0.8470982313156128,0.8482142686843872,0.84765625,0.84765625,0.84765625,0.8487723469734192,0.8493303656578064,0.8487723469734192,0.8465401530265808,0.8459821343421936,0.8459821343421936,0.8459821343421936,0.8454241156578064,0.8459821343421936,0.8470982313156128],\"yaxis\":\"y\",\"type\":\"scatter\"}],                        {\"template\":{\"data\":{\"histogram2dcontour\":[{\"type\":\"histogram2dcontour\",\"colorbar\":{\"outlinewidth\":0,\"ticks\":\"\"},\"colorscale\":[[0.0,\"#0d0887\"],[0.1111111111111111,\"#46039f\"],[0.2222222222222222,\"#7201a8\"],[0.3333333333333333,\"#9c179e\"],[0.4444444444444444,\"#bd3786\"],[0.5555555555555556,\"#d8576b\"],[0.6666666666666666,\"#ed7953\"],[0.7777777777777778,\"#fb9f3a\"],[0.8888888888888888,\"#fdca26\"],[1.0,\"#f0f921\"]]}],\"choropleth\":[{\"type\":\"choropleth\",\"colorbar\":{\"outlinewidth\":0,\"ticks\":\"\"}}],\"histogram2d\":[{\"type\":\"histogram2d\",\"colorbar\":{\"outlinewidth\":0,\"ticks\":\"\"},\"colorscale\":[[0.0,\"#0d0887\"],[0.1111111111111111,\"#46039f\"],[0.2222222222222222,\"#7201a8\"],[0.3333333333333333,\"#9c179e\"],[0.4444444444444444,\"#bd3786\"],[0.5555555555555556,\"#d8576b\"],[0.6666666666666666,\"#ed7953\"],[0.7777777777777778,\"#fb9f3a\"],[0.8888888888888888,\"#fdca26\"],[1.0,\"#f0f921\"]]}],\"heatmap\":[{\"type\":\"heatmap\",\"colorbar\":{\"outlinewidth\":0,\"ticks\":\"\"},\"colorscale\":[[0.0,\"#0d0887\"],[0.1111111111111111,\"#46039f\"],[0.2222222222222222,\"#7201a8\"],[0.3333333333333333,\"#9c179e\"],[0.4444444444444444,\"#bd3786\"],[0.5555555555555556,\"#d8576b\"],[0.6666666666666666,\"#ed7953\"],[0.7777777777777778,\"#fb9f3a\"],[0.8888888888888888,\"#fdca26\"],[1.0,\"#f0f921\"]]}],\"heatmapgl\":[{\"type\":\"heatmapgl\",\"colorbar\":{\"outlinewidth\":0,\"ticks\":\"\"},\"colorscale\":[[0.0,\"#0d0887\"],[0.1111111111111111,\"#46039f\"],[0.2222222222222222,\"#7201a8\"],[0.3333333333333333,\"#9c179e\"],[0.4444444444444444,\"#bd3786\"],[0.5555555555555556,\"#d8576b\"],[0.6666666666666666,\"#ed7953\"],[0.7777777777777778,\"#fb9f3a\"],[0.8888888888888888,\"#fdca26\"],[1.0,\"#f0f921\"]]}],\"contourcarpet\":[{\"type\":\"contourcarpet\",\"colorbar\":{\"outlinewidth\":0,\"ticks\":\"\"}}],\"contour\":[{\"type\":\"contour\",\"colorbar\":{\"outlinewidth\":0,\"ticks\":\"\"},\"colorscale\":[[0.0,\"#0d0887\"],[0.1111111111111111,\"#46039f\"],[0.2222222222222222,\"#7201a8\"],[0.3333333333333333,\"#9c179e\"],[0.4444444444444444,\"#bd3786\"],[0.5555555555555556,\"#d8576b\"],[0.6666666666666666,\"#ed7953\"],[0.7777777777777778,\"#fb9f3a\"],[0.8888888888888888,\"#fdca26\"],[1.0,\"#f0f921\"]]}],\"surface\":[{\"type\":\"surface\",\"colorbar\":{\"outlinewidth\":0,\"ticks\":\"\"},\"colorscale\":[[0.0,\"#0d0887\"],[0.1111111111111111,\"#46039f\"],[0.2222222222222222,\"#7201a8\"],[0.3333333333333333,\"#9c179e\"],[0.4444444444444444,\"#bd3786\"],[0.5555555555555556,\"#d8576b\"],[0.6666666666666666,\"#ed7953\"],[0.7777777777777778,\"#fb9f3a\"],[0.8888888888888888,\"#fdca26\"],[1.0,\"#f0f921\"]]}],\"mesh3d\":[{\"type\":\"mesh3d\",\"colorbar\":{\"outlinewidth\":0,\"ticks\":\"\"}}],\"scatter\":[{\"fillpattern\":{\"fillmode\":\"overlay\",\"size\":10,\"solidity\":0.2},\"type\":\"scatter\"}],\"parcoords\":[{\"type\":\"parcoords\",\"line\":{\"colorbar\":{\"outlinewidth\":0,\"ticks\":\"\"}}}],\"scatterpolargl\":[{\"type\":\"scatterpolargl\",\"marker\":{\"colorbar\":{\"outlinewidth\":0,\"ticks\":\"\"}}}],\"bar\":[{\"error_x\":{\"color\":\"#2a3f5f\"},\"error_y\":{\"color\":\"#2a3f5f\"},\"marker\":{\"line\":{\"color\":\"#E5ECF6\",\"width\":0.5},\"pattern\":{\"fillmode\":\"overlay\",\"size\":10,\"solidity\":0.2}},\"type\":\"bar\"}],\"scattergeo\":[{\"type\":\"scattergeo\",\"marker\":{\"colorbar\":{\"outlinewidth\":0,\"ticks\":\"\"}}}],\"scatterpolar\":[{\"type\":\"scatterpolar\",\"marker\":{\"colorbar\":{\"outlinewidth\":0,\"ticks\":\"\"}}}],\"histogram\":[{\"marker\":{\"pattern\":{\"fillmode\":\"overlay\",\"size\":10,\"solidity\":0.2}},\"type\":\"histogram\"}],\"scattergl\":[{\"type\":\"scattergl\",\"marker\":{\"colorbar\":{\"outlinewidth\":0,\"ticks\":\"\"}}}],\"scatter3d\":[{\"type\":\"scatter3d\",\"line\":{\"colorbar\":{\"outlinewidth\":0,\"ticks\":\"\"}},\"marker\":{\"colorbar\":{\"outlinewidth\":0,\"ticks\":\"\"}}}],\"scattermapbox\":[{\"type\":\"scattermapbox\",\"marker\":{\"colorbar\":{\"outlinewidth\":0,\"ticks\":\"\"}}}],\"scatterternary\":[{\"type\":\"scatterternary\",\"marker\":{\"colorbar\":{\"outlinewidth\":0,\"ticks\":\"\"}}}],\"scattercarpet\":[{\"type\":\"scattercarpet\",\"marker\":{\"colorbar\":{\"outlinewidth\":0,\"ticks\":\"\"}}}],\"carpet\":[{\"aaxis\":{\"endlinecolor\":\"#2a3f5f\",\"gridcolor\":\"white\",\"linecolor\":\"white\",\"minorgridcolor\":\"white\",\"startlinecolor\":\"#2a3f5f\"},\"baxis\":{\"endlinecolor\":\"#2a3f5f\",\"gridcolor\":\"white\",\"linecolor\":\"white\",\"minorgridcolor\":\"white\",\"startlinecolor\":\"#2a3f5f\"},\"type\":\"carpet\"}],\"table\":[{\"cells\":{\"fill\":{\"color\":\"#EBF0F8\"},\"line\":{\"color\":\"white\"}},\"header\":{\"fill\":{\"color\":\"#C8D4E3\"},\"line\":{\"color\":\"white\"}},\"type\":\"table\"}],\"barpolar\":[{\"marker\":{\"line\":{\"color\":\"#E5ECF6\",\"width\":0.5},\"pattern\":{\"fillmode\":\"overlay\",\"size\":10,\"solidity\":0.2}},\"type\":\"barpolar\"}],\"pie\":[{\"automargin\":true,\"type\":\"pie\"}]},\"layout\":{\"autotypenumbers\":\"strict\",\"colorway\":[\"#636efa\",\"#EF553B\",\"#00cc96\",\"#ab63fa\",\"#FFA15A\",\"#19d3f3\",\"#FF6692\",\"#B6E880\",\"#FF97FF\",\"#FECB52\"],\"font\":{\"color\":\"#2a3f5f\"},\"hovermode\":\"closest\",\"hoverlabel\":{\"align\":\"left\"},\"paper_bgcolor\":\"white\",\"plot_bgcolor\":\"#E5ECF6\",\"polar\":{\"bgcolor\":\"#E5ECF6\",\"angularaxis\":{\"gridcolor\":\"white\",\"linecolor\":\"white\",\"ticks\":\"\"},\"radialaxis\":{\"gridcolor\":\"white\",\"linecolor\":\"white\",\"ticks\":\"\"}},\"ternary\":{\"bgcolor\":\"#E5ECF6\",\"aaxis\":{\"gridcolor\":\"white\",\"linecolor\":\"white\",\"ticks\":\"\"},\"baxis\":{\"gridcolor\":\"white\",\"linecolor\":\"white\",\"ticks\":\"\"},\"caxis\":{\"gridcolor\":\"white\",\"linecolor\":\"white\",\"ticks\":\"\"}},\"coloraxis\":{\"colorbar\":{\"outlinewidth\":0,\"ticks\":\"\"}},\"colorscale\":{\"sequential\":[[0.0,\"#0d0887\"],[0.1111111111111111,\"#46039f\"],[0.2222222222222222,\"#7201a8\"],[0.3333333333333333,\"#9c179e\"],[0.4444444444444444,\"#bd3786\"],[0.5555555555555556,\"#d8576b\"],[0.6666666666666666,\"#ed7953\"],[0.7777777777777778,\"#fb9f3a\"],[0.8888888888888888,\"#fdca26\"],[1.0,\"#f0f921\"]],\"sequentialminus\":[[0.0,\"#0d0887\"],[0.1111111111111111,\"#46039f\"],[0.2222222222222222,\"#7201a8\"],[0.3333333333333333,\"#9c179e\"],[0.4444444444444444,\"#bd3786\"],[0.5555555555555556,\"#d8576b\"],[0.6666666666666666,\"#ed7953\"],[0.7777777777777778,\"#fb9f3a\"],[0.8888888888888888,\"#fdca26\"],[1.0,\"#f0f921\"]],\"diverging\":[[0,\"#8e0152\"],[0.1,\"#c51b7d\"],[0.2,\"#de77ae\"],[0.3,\"#f1b6da\"],[0.4,\"#fde0ef\"],[0.5,\"#f7f7f7\"],[0.6,\"#e6f5d0\"],[0.7,\"#b8e186\"],[0.8,\"#7fbc41\"],[0.9,\"#4d9221\"],[1,\"#276419\"]]},\"xaxis\":{\"gridcolor\":\"white\",\"linecolor\":\"white\",\"ticks\":\"\",\"title\":{\"standoff\":15},\"zerolinecolor\":\"white\",\"automargin\":true,\"zerolinewidth\":2},\"yaxis\":{\"gridcolor\":\"white\",\"linecolor\":\"white\",\"ticks\":\"\",\"title\":{\"standoff\":15},\"zerolinecolor\":\"white\",\"automargin\":true,\"zerolinewidth\":2},\"scene\":{\"xaxis\":{\"backgroundcolor\":\"#E5ECF6\",\"gridcolor\":\"white\",\"linecolor\":\"white\",\"showbackground\":true,\"ticks\":\"\",\"zerolinecolor\":\"white\",\"gridwidth\":2},\"yaxis\":{\"backgroundcolor\":\"#E5ECF6\",\"gridcolor\":\"white\",\"linecolor\":\"white\",\"showbackground\":true,\"ticks\":\"\",\"zerolinecolor\":\"white\",\"gridwidth\":2},\"zaxis\":{\"backgroundcolor\":\"#E5ECF6\",\"gridcolor\":\"white\",\"linecolor\":\"white\",\"showbackground\":true,\"ticks\":\"\",\"zerolinecolor\":\"white\",\"gridwidth\":2}},\"shapedefaults\":{\"line\":{\"color\":\"#2a3f5f\"}},\"annotationdefaults\":{\"arrowcolor\":\"#2a3f5f\",\"arrowhead\":0,\"arrowwidth\":1},\"geo\":{\"bgcolor\":\"white\",\"landcolor\":\"#E5ECF6\",\"subunitcolor\":\"white\",\"showland\":true,\"showlakes\":true,\"lakecolor\":\"white\"},\"title\":{\"x\":0.05},\"mapbox\":{\"style\":\"light\"}}},\"xaxis\":{\"anchor\":\"y\",\"domain\":[0.0,1.0],\"title\":{\"text\":\"Number of Epochs\"}},\"yaxis\":{\"anchor\":\"x\",\"domain\":[0.0,1.0],\"title\":{\"text\":\"Accuracy\"}},\"legend\":{\"title\":{\"text\":\"variable\"},\"tracegroupgap\":0},\"margin\":{\"t\":60},\"title\":{\"text\":\"Accuracy vs Number of Epochs\",\"y\":0.94,\"x\":0.5,\"xanchor\":\"center\",\"yanchor\":\"top\"},\"showlegend\":true},                        {\"responsive\": true}                    ).then(function(){\n",
              "                            \n",
              "var gd = document.getElementById('5d203b44-e315-45af-adbc-69f8cc71e4ee');\n",
              "var x = new MutationObserver(function (mutations, observer) {{\n",
              "        var display = window.getComputedStyle(gd).display;\n",
              "        if (!display || display === 'none') {{\n",
              "            console.log([gd, 'removed!']);\n",
              "            Plotly.purge(gd);\n",
              "            observer.disconnect();\n",
              "        }}\n",
              "}});\n",
              "\n",
              "// Listen for the removal of the full notebook cells\n",
              "var notebookContainer = gd.closest('#notebook-container');\n",
              "if (notebookContainer) {{\n",
              "    x.observe(notebookContainer, {childList: true});\n",
              "}}\n",
              "\n",
              "// Listen for the clearing of the current output cell\n",
              "var outputEl = gd.closest('.output');\n",
              "if (outputEl) {{\n",
              "    x.observe(outputEl, {childList: true});\n",
              "}}\n",
              "\n",
              "                        })                };                            </script>        </div>\n",
              "</body>\n",
              "</html>"
            ]
          },
          "metadata": {}
        }
      ]
    },
    {
      "cell_type": "markdown",
      "source": [
        "#visulize the learning process"
      ],
      "metadata": {
        "id": "7ptesZ_twGs9"
      }
    },
    {
      "cell_type": "code",
      "source": [
        "x = px.line(data_frame= history ,\n",
        "            y= [\"loss\" , \"val_loss\"] , markers = True )\n",
        "x.update_xaxes(title=\"Number of Epochs\")\n",
        "x.update_yaxes(title = \"Loss\")\n",
        "x.update_layout(showlegend = True,\n",
        "    title = {\n",
        "        'text': 'Loss vs Number of Epochs',\n",
        "        'y':0.94,\n",
        "        'x':0.5,\n",
        "        'xanchor': 'center',\n",
        "        'yanchor': 'top'})\n",
        "x.show()"
      ],
      "metadata": {
        "colab": {
          "base_uri": "https://localhost:8080/",
          "height": 542
        },
        "id": "bjCe_NTmLH7r",
        "outputId": "7fca4219-346d-45ad-d2fd-98e7ebc58698"
      },
      "execution_count": null,
      "outputs": [
        {
          "output_type": "display_data",
          "data": {
            "text/html": [
              "<html>\n",
              "<head><meta charset=\"utf-8\" /></head>\n",
              "<body>\n",
              "    <div>            <script src=\"https://cdnjs.cloudflare.com/ajax/libs/mathjax/2.7.5/MathJax.js?config=TeX-AMS-MML_SVG\"></script><script type=\"text/javascript\">if (window.MathJax && window.MathJax.Hub && window.MathJax.Hub.Config) {window.MathJax.Hub.Config({SVG: {font: \"STIX-Web\"}});}</script>                <script type=\"text/javascript\">window.PlotlyConfig = {MathJaxConfig: 'local'};</script>\n",
              "        <script charset=\"utf-8\" src=\"https://cdn.plot.ly/plotly-2.24.1.min.js\"></script>                <div id=\"c9963762-e4c1-4216-a88b-a51c807c12e1\" class=\"plotly-graph-div\" style=\"height:525px; width:100%;\"></div>            <script type=\"text/javascript\">                                    window.PLOTLYENV=window.PLOTLYENV || {};                                    if (document.getElementById(\"c9963762-e4c1-4216-a88b-a51c807c12e1\")) {                    Plotly.newPlot(                        \"c9963762-e4c1-4216-a88b-a51c807c12e1\",                        [{\"hovertemplate\":\"variable=loss\\u003cbr\\u003eindex=%{x}\\u003cbr\\u003evalue=%{y}\\u003cextra\\u003e\\u003c\\u002fextra\\u003e\",\"legendgroup\":\"loss\",\"line\":{\"color\":\"#636efa\",\"dash\":\"solid\"},\"marker\":{\"symbol\":\"circle\"},\"mode\":\"markers+lines\",\"name\":\"loss\",\"orientation\":\"v\",\"showlegend\":true,\"x\":[0,1,2,3,4,5,6,7,8,9,10,11,12,13,14,15,16,17,18,19,20,21,22,23,24,25,26,27,28,29,30,31,32,33,34,35,36,37],\"xaxis\":\"x\",\"y\":[13.136384963989258,8.497838973999023,5.564815044403076,3.6943650245666504,2.4878134727478027,1.715790867805481,1.2237998247146606,0.905562698841095,0.6862331032752991,0.5510858297348022,0.4545273184776306,0.39385682344436646,0.333083838224411,0.3112652897834778,0.2905062139034271,0.27309849858283997,0.24928200244903564,0.2378964126110077,0.23428437113761902,0.2181154489517212,0.210013285279274,0.20493170619010925,0.20006607472896576,0.19719567894935608,0.1940288096666336,0.18495799601078033,0.17929305136203766,0.17725081741809845,0.17380014061927795,0.18581196665763855,0.17431075870990753,0.16621600091457367,0.1684393584728241,0.1610257923603058,0.16760186851024628,0.16215017437934875,0.16246391832828522,0.1557256430387497],\"yaxis\":\"y\",\"type\":\"scatter\"},{\"hovertemplate\":\"variable=val_loss\\u003cbr\\u003eindex=%{x}\\u003cbr\\u003evalue=%{y}\\u003cextra\\u003e\\u003c\\u002fextra\\u003e\",\"legendgroup\":\"val_loss\",\"line\":{\"color\":\"#EF553B\",\"dash\":\"solid\"},\"marker\":{\"symbol\":\"circle\"},\"mode\":\"markers+lines\",\"name\":\"val_loss\",\"orientation\":\"v\",\"showlegend\":true,\"x\":[0,1,2,3,4,5,6,7,8,9,10,11,12,13,14,15,16,17,18,19,20,21,22,23,24,25,26,27,28,29,30,31,32,33,34,35,36,37],\"xaxis\":\"x\",\"y\":[10.531534194946289,6.978683948516846,4.716611385345459,3.2998616695404053,2.434399127960205,1.8749010562896729,1.5999070405960083,0.9574218392372131,0.7691802978515625,0.6252602338790894,0.6223410964012146,0.5371749997138977,0.6009467840194702,0.6549320220947266,0.4555751383304596,0.4947212338447571,0.6424247622489929,0.6592976450920105,0.430591881275177,0.42742058634757996,0.43048906326293945,0.43214890360832214,0.4330136179924011,0.4364023208618164,0.4392503798007965,0.441468745470047,0.4438808858394623,0.4479063153266907,0.44822996854782104,0.44888120889663696,0.45127126574516296,0.4548209011554718,0.458551824092865,0.46091821789741516,0.4637793004512787,0.46733853220939636,0.4685017168521881,0.47003182768821716],\"yaxis\":\"y\",\"type\":\"scatter\"}],                        {\"template\":{\"data\":{\"histogram2dcontour\":[{\"type\":\"histogram2dcontour\",\"colorbar\":{\"outlinewidth\":0,\"ticks\":\"\"},\"colorscale\":[[0.0,\"#0d0887\"],[0.1111111111111111,\"#46039f\"],[0.2222222222222222,\"#7201a8\"],[0.3333333333333333,\"#9c179e\"],[0.4444444444444444,\"#bd3786\"],[0.5555555555555556,\"#d8576b\"],[0.6666666666666666,\"#ed7953\"],[0.7777777777777778,\"#fb9f3a\"],[0.8888888888888888,\"#fdca26\"],[1.0,\"#f0f921\"]]}],\"choropleth\":[{\"type\":\"choropleth\",\"colorbar\":{\"outlinewidth\":0,\"ticks\":\"\"}}],\"histogram2d\":[{\"type\":\"histogram2d\",\"colorbar\":{\"outlinewidth\":0,\"ticks\":\"\"},\"colorscale\":[[0.0,\"#0d0887\"],[0.1111111111111111,\"#46039f\"],[0.2222222222222222,\"#7201a8\"],[0.3333333333333333,\"#9c179e\"],[0.4444444444444444,\"#bd3786\"],[0.5555555555555556,\"#d8576b\"],[0.6666666666666666,\"#ed7953\"],[0.7777777777777778,\"#fb9f3a\"],[0.8888888888888888,\"#fdca26\"],[1.0,\"#f0f921\"]]}],\"heatmap\":[{\"type\":\"heatmap\",\"colorbar\":{\"outlinewidth\":0,\"ticks\":\"\"},\"colorscale\":[[0.0,\"#0d0887\"],[0.1111111111111111,\"#46039f\"],[0.2222222222222222,\"#7201a8\"],[0.3333333333333333,\"#9c179e\"],[0.4444444444444444,\"#bd3786\"],[0.5555555555555556,\"#d8576b\"],[0.6666666666666666,\"#ed7953\"],[0.7777777777777778,\"#fb9f3a\"],[0.8888888888888888,\"#fdca26\"],[1.0,\"#f0f921\"]]}],\"heatmapgl\":[{\"type\":\"heatmapgl\",\"colorbar\":{\"outlinewidth\":0,\"ticks\":\"\"},\"colorscale\":[[0.0,\"#0d0887\"],[0.1111111111111111,\"#46039f\"],[0.2222222222222222,\"#7201a8\"],[0.3333333333333333,\"#9c179e\"],[0.4444444444444444,\"#bd3786\"],[0.5555555555555556,\"#d8576b\"],[0.6666666666666666,\"#ed7953\"],[0.7777777777777778,\"#fb9f3a\"],[0.8888888888888888,\"#fdca26\"],[1.0,\"#f0f921\"]]}],\"contourcarpet\":[{\"type\":\"contourcarpet\",\"colorbar\":{\"outlinewidth\":0,\"ticks\":\"\"}}],\"contour\":[{\"type\":\"contour\",\"colorbar\":{\"outlinewidth\":0,\"ticks\":\"\"},\"colorscale\":[[0.0,\"#0d0887\"],[0.1111111111111111,\"#46039f\"],[0.2222222222222222,\"#7201a8\"],[0.3333333333333333,\"#9c179e\"],[0.4444444444444444,\"#bd3786\"],[0.5555555555555556,\"#d8576b\"],[0.6666666666666666,\"#ed7953\"],[0.7777777777777778,\"#fb9f3a\"],[0.8888888888888888,\"#fdca26\"],[1.0,\"#f0f921\"]]}],\"surface\":[{\"type\":\"surface\",\"colorbar\":{\"outlinewidth\":0,\"ticks\":\"\"},\"colorscale\":[[0.0,\"#0d0887\"],[0.1111111111111111,\"#46039f\"],[0.2222222222222222,\"#7201a8\"],[0.3333333333333333,\"#9c179e\"],[0.4444444444444444,\"#bd3786\"],[0.5555555555555556,\"#d8576b\"],[0.6666666666666666,\"#ed7953\"],[0.7777777777777778,\"#fb9f3a\"],[0.8888888888888888,\"#fdca26\"],[1.0,\"#f0f921\"]]}],\"mesh3d\":[{\"type\":\"mesh3d\",\"colorbar\":{\"outlinewidth\":0,\"ticks\":\"\"}}],\"scatter\":[{\"fillpattern\":{\"fillmode\":\"overlay\",\"size\":10,\"solidity\":0.2},\"type\":\"scatter\"}],\"parcoords\":[{\"type\":\"parcoords\",\"line\":{\"colorbar\":{\"outlinewidth\":0,\"ticks\":\"\"}}}],\"scatterpolargl\":[{\"type\":\"scatterpolargl\",\"marker\":{\"colorbar\":{\"outlinewidth\":0,\"ticks\":\"\"}}}],\"bar\":[{\"error_x\":{\"color\":\"#2a3f5f\"},\"error_y\":{\"color\":\"#2a3f5f\"},\"marker\":{\"line\":{\"color\":\"#E5ECF6\",\"width\":0.5},\"pattern\":{\"fillmode\":\"overlay\",\"size\":10,\"solidity\":0.2}},\"type\":\"bar\"}],\"scattergeo\":[{\"type\":\"scattergeo\",\"marker\":{\"colorbar\":{\"outlinewidth\":0,\"ticks\":\"\"}}}],\"scatterpolar\":[{\"type\":\"scatterpolar\",\"marker\":{\"colorbar\":{\"outlinewidth\":0,\"ticks\":\"\"}}}],\"histogram\":[{\"marker\":{\"pattern\":{\"fillmode\":\"overlay\",\"size\":10,\"solidity\":0.2}},\"type\":\"histogram\"}],\"scattergl\":[{\"type\":\"scattergl\",\"marker\":{\"colorbar\":{\"outlinewidth\":0,\"ticks\":\"\"}}}],\"scatter3d\":[{\"type\":\"scatter3d\",\"line\":{\"colorbar\":{\"outlinewidth\":0,\"ticks\":\"\"}},\"marker\":{\"colorbar\":{\"outlinewidth\":0,\"ticks\":\"\"}}}],\"scattermapbox\":[{\"type\":\"scattermapbox\",\"marker\":{\"colorbar\":{\"outlinewidth\":0,\"ticks\":\"\"}}}],\"scatterternary\":[{\"type\":\"scatterternary\",\"marker\":{\"colorbar\":{\"outlinewidth\":0,\"ticks\":\"\"}}}],\"scattercarpet\":[{\"type\":\"scattercarpet\",\"marker\":{\"colorbar\":{\"outlinewidth\":0,\"ticks\":\"\"}}}],\"carpet\":[{\"aaxis\":{\"endlinecolor\":\"#2a3f5f\",\"gridcolor\":\"white\",\"linecolor\":\"white\",\"minorgridcolor\":\"white\",\"startlinecolor\":\"#2a3f5f\"},\"baxis\":{\"endlinecolor\":\"#2a3f5f\",\"gridcolor\":\"white\",\"linecolor\":\"white\",\"minorgridcolor\":\"white\",\"startlinecolor\":\"#2a3f5f\"},\"type\":\"carpet\"}],\"table\":[{\"cells\":{\"fill\":{\"color\":\"#EBF0F8\"},\"line\":{\"color\":\"white\"}},\"header\":{\"fill\":{\"color\":\"#C8D4E3\"},\"line\":{\"color\":\"white\"}},\"type\":\"table\"}],\"barpolar\":[{\"marker\":{\"line\":{\"color\":\"#E5ECF6\",\"width\":0.5},\"pattern\":{\"fillmode\":\"overlay\",\"size\":10,\"solidity\":0.2}},\"type\":\"barpolar\"}],\"pie\":[{\"automargin\":true,\"type\":\"pie\"}]},\"layout\":{\"autotypenumbers\":\"strict\",\"colorway\":[\"#636efa\",\"#EF553B\",\"#00cc96\",\"#ab63fa\",\"#FFA15A\",\"#19d3f3\",\"#FF6692\",\"#B6E880\",\"#FF97FF\",\"#FECB52\"],\"font\":{\"color\":\"#2a3f5f\"},\"hovermode\":\"closest\",\"hoverlabel\":{\"align\":\"left\"},\"paper_bgcolor\":\"white\",\"plot_bgcolor\":\"#E5ECF6\",\"polar\":{\"bgcolor\":\"#E5ECF6\",\"angularaxis\":{\"gridcolor\":\"white\",\"linecolor\":\"white\",\"ticks\":\"\"},\"radialaxis\":{\"gridcolor\":\"white\",\"linecolor\":\"white\",\"ticks\":\"\"}},\"ternary\":{\"bgcolor\":\"#E5ECF6\",\"aaxis\":{\"gridcolor\":\"white\",\"linecolor\":\"white\",\"ticks\":\"\"},\"baxis\":{\"gridcolor\":\"white\",\"linecolor\":\"white\",\"ticks\":\"\"},\"caxis\":{\"gridcolor\":\"white\",\"linecolor\":\"white\",\"ticks\":\"\"}},\"coloraxis\":{\"colorbar\":{\"outlinewidth\":0,\"ticks\":\"\"}},\"colorscale\":{\"sequential\":[[0.0,\"#0d0887\"],[0.1111111111111111,\"#46039f\"],[0.2222222222222222,\"#7201a8\"],[0.3333333333333333,\"#9c179e\"],[0.4444444444444444,\"#bd3786\"],[0.5555555555555556,\"#d8576b\"],[0.6666666666666666,\"#ed7953\"],[0.7777777777777778,\"#fb9f3a\"],[0.8888888888888888,\"#fdca26\"],[1.0,\"#f0f921\"]],\"sequentialminus\":[[0.0,\"#0d0887\"],[0.1111111111111111,\"#46039f\"],[0.2222222222222222,\"#7201a8\"],[0.3333333333333333,\"#9c179e\"],[0.4444444444444444,\"#bd3786\"],[0.5555555555555556,\"#d8576b\"],[0.6666666666666666,\"#ed7953\"],[0.7777777777777778,\"#fb9f3a\"],[0.8888888888888888,\"#fdca26\"],[1.0,\"#f0f921\"]],\"diverging\":[[0,\"#8e0152\"],[0.1,\"#c51b7d\"],[0.2,\"#de77ae\"],[0.3,\"#f1b6da\"],[0.4,\"#fde0ef\"],[0.5,\"#f7f7f7\"],[0.6,\"#e6f5d0\"],[0.7,\"#b8e186\"],[0.8,\"#7fbc41\"],[0.9,\"#4d9221\"],[1,\"#276419\"]]},\"xaxis\":{\"gridcolor\":\"white\",\"linecolor\":\"white\",\"ticks\":\"\",\"title\":{\"standoff\":15},\"zerolinecolor\":\"white\",\"automargin\":true,\"zerolinewidth\":2},\"yaxis\":{\"gridcolor\":\"white\",\"linecolor\":\"white\",\"ticks\":\"\",\"title\":{\"standoff\":15},\"zerolinecolor\":\"white\",\"automargin\":true,\"zerolinewidth\":2},\"scene\":{\"xaxis\":{\"backgroundcolor\":\"#E5ECF6\",\"gridcolor\":\"white\",\"linecolor\":\"white\",\"showbackground\":true,\"ticks\":\"\",\"zerolinecolor\":\"white\",\"gridwidth\":2},\"yaxis\":{\"backgroundcolor\":\"#E5ECF6\",\"gridcolor\":\"white\",\"linecolor\":\"white\",\"showbackground\":true,\"ticks\":\"\",\"zerolinecolor\":\"white\",\"gridwidth\":2},\"zaxis\":{\"backgroundcolor\":\"#E5ECF6\",\"gridcolor\":\"white\",\"linecolor\":\"white\",\"showbackground\":true,\"ticks\":\"\",\"zerolinecolor\":\"white\",\"gridwidth\":2}},\"shapedefaults\":{\"line\":{\"color\":\"#2a3f5f\"}},\"annotationdefaults\":{\"arrowcolor\":\"#2a3f5f\",\"arrowhead\":0,\"arrowwidth\":1},\"geo\":{\"bgcolor\":\"white\",\"landcolor\":\"#E5ECF6\",\"subunitcolor\":\"white\",\"showland\":true,\"showlakes\":true,\"lakecolor\":\"white\"},\"title\":{\"x\":0.05},\"mapbox\":{\"style\":\"light\"}}},\"xaxis\":{\"anchor\":\"y\",\"domain\":[0.0,1.0],\"title\":{\"text\":\"Number of Epochs\"}},\"yaxis\":{\"anchor\":\"x\",\"domain\":[0.0,1.0],\"title\":{\"text\":\"Loss\"}},\"legend\":{\"title\":{\"text\":\"variable\"},\"tracegroupgap\":0},\"margin\":{\"t\":60},\"title\":{\"text\":\"Loss vs Number of Epochs\",\"y\":0.94,\"x\":0.5,\"xanchor\":\"center\",\"yanchor\":\"top\"},\"showlegend\":true},                        {\"responsive\": true}                    ).then(function(){\n",
              "                            \n",
              "var gd = document.getElementById('c9963762-e4c1-4216-a88b-a51c807c12e1');\n",
              "var x = new MutationObserver(function (mutations, observer) {{\n",
              "        var display = window.getComputedStyle(gd).display;\n",
              "        if (!display || display === 'none') {{\n",
              "            console.log([gd, 'removed!']);\n",
              "            Plotly.purge(gd);\n",
              "            observer.disconnect();\n",
              "        }}\n",
              "}});\n",
              "\n",
              "// Listen for the removal of the full notebook cells\n",
              "var notebookContainer = gd.closest('#notebook-container');\n",
              "if (notebookContainer) {{\n",
              "    x.observe(notebookContainer, {childList: true});\n",
              "}}\n",
              "\n",
              "// Listen for the clearing of the current output cell\n",
              "var outputEl = gd.closest('.output');\n",
              "if (outputEl) {{\n",
              "    x.observe(outputEl, {childList: true});\n",
              "}}\n",
              "\n",
              "                        })                };                            </script>        </div>\n",
              "</body>\n",
              "</html>"
            ]
          },
          "metadata": {}
        }
      ]
    },
    {
      "cell_type": "markdown",
      "source": [
        "#evaluation  the model"
      ],
      "metadata": {
        "id": "H5uSbXf1wLgl"
      }
    },
    {
      "cell_type": "code",
      "source": [
        "model.evaluate(test_generator)\n",
        "preds = model.predict(test_generator)\n",
        "y_preds = np.argmax(preds , axis = 1 )\n",
        "y_test = np.array(test_generator.labels)"
      ],
      "metadata": {
        "colab": {
          "base_uri": "https://localhost:8080/"
        },
        "id": "F11z99pKLK2o",
        "outputId": "a3944190-9b2a-4b80-b15b-7126baff92fb"
      },
      "execution_count": null,
      "outputs": [
        {
          "output_type": "stream",
          "name": "stdout",
          "text": [
            "35/35 [==============================] - 7s 206ms/step - loss: 0.5122 - accuracy: 0.8412\n",
            "35/35 [==============================] - 12s 93ms/step\n"
          ]
        }
      ]
    },
    {
      "cell_type": "markdown",
      "source": [
        "#print the confusion matrix"
      ],
      "metadata": {
        "id": "C2NgDnJHwWrP"
      }
    },
    {
      "cell_type": "code",
      "source": [
        "cm_data = confusion_matrix(y_test , y_preds)\n",
        "cm = pd.DataFrame(cm_data, columns=CLASS_LABELS, index = CLASS_LABELS)\n",
        "cm.index.name = 'Actual'\n",
        "cm.columns.name = 'Predicted'\n",
        "plt.figure(figsize = (20,10))\n",
        "plt.title('Confusion Matrix', fontsize = 20)\n",
        "sns.set(font_scale=1.2)\n",
        "ax = sns.heatmap(cm, cbar=False, cmap=\"Blues\", annot=True, annot_kws={\"size\": 16}, fmt='g')"
      ],
      "metadata": {
        "colab": {
          "base_uri": "https://localhost:8080/",
          "height": 599
        },
        "id": "JsP_7KNTLNdb",
        "outputId": "df4f825f-c620-4607-ead9-5b20e779e43b"
      },
      "execution_count": null,
      "outputs": [
        {
          "output_type": "display_data",
          "data": {
            "text/plain": [
              "<Figure size 2000x1000 with 1 Axes>"
            ],
            "image/png": "[encoded data removed]"
          },
          "metadata": {}
        }
      ]
    },
    {
      "cell_type": "markdown",
      "source": [
        "#print the classification report"
      ],
      "metadata": {
        "id": "jQrw4QNRwgZP"
      }
    },
    {
      "cell_type": "code",
      "source": [
        "print(classification_report(y_test, y_preds))"
      ],
      "metadata": {
        "colab": {
          "base_uri": "https://localhost:8080/"
        },
        "id": "ZNY4kO8pLb-t",
        "outputId": "b045de52-27cf-4c05-cd61-26036aebdaec"
      },
      "execution_count": null,
      "outputs": [
        {
          "output_type": "stream",
          "name": "stdout",
          "text": [
            "              precision    recall  f1-score   support\n",
            "\n",
            "           0       0.83      0.81      0.82       958\n",
            "           1       0.85      0.87      0.86      1233\n",
            "\n",
            "    accuracy                           0.84      2191\n",
            "   macro avg       0.84      0.84      0.84      2191\n",
            "weighted avg       0.84      0.84      0.84      2191\n",
            "\n"
          ]
        }
      ]
    },
    {
      "cell_type": "markdown",
      "source": [
        "#start with the second system (physical records analysis)\n"
      ],
      "metadata": {
        "id": "ENNd52y9SMiW"
      }
    },
    {
      "cell_type": "markdown",
      "source": [
        "#unzip the data folder"
      ],
      "metadata": {
        "id": "bXfdw5Mp32ZZ"
      }
    },
    {
      "cell_type": "code",
      "source": [
        "!pip install rarfile\n",
        "import rarfile\n",
        "with rarfile.RarFile('/content/vicon+physical+action+data+set.zip', 'r') as rar_ref:\n",
        "    rar_ref.extractall()"
      ],
      "metadata": {
        "colab": {
          "base_uri": "https://localhost:8080/"
        },
        "id": "yT1mIuFs35fq",
        "outputId": "9fa256ff-6232-45a4-c647-5ebf81663053"
      },
      "execution_count": null,
      "outputs": [
        {
          "output_type": "stream",
          "name": "stdout",
          "text": [
            "Requirement already satisfied: rarfile in /usr/local/lib/python3.10/dist-packages (4.1)\n"
          ]
        }
      ]
    },
    {
      "cell_type": "markdown",
      "source": [
        "#defin function to load the data"
      ],
      "metadata": {
        "id": "WzMrIzos3LqM"
      }
    },
    {
      "cell_type": "code",
      "source": [
        "import pandas as pd\n",
        "import numpy as np\n",
        "import os\n",
        "\n",
        "def load_and_preprocess_data(path_data):\n",
        "    \"\"\"\n",
        "    Load and preprocess data from the Vicon Physical Action Data Set.\n",
        "\n",
        "    Parameters:\n",
        "    - path_data (str): Path to the root directory of the dataset.\n",
        "\n",
        "    Returns:\n",
        "    - data (list): List containing the loaded data.\n",
        "    - lbl_20_class (list): List containing labels for each sample in 20 classes.\n",
        "    \"\"\"\n",
        "\n",
        "    # Initialize lists to store data and labels\n",
        "    lbl_binary = list()\n",
        "    lbl_20_class = list()\n",
        "    data = []\n",
        "\n",
        "    # Loop through folders in the dataset\n",
        "    for folder in os.listdir(path_data):\n",
        "        path_in = os.path.join(path_data, folder)\n",
        "\n",
        "        # Loop through subfolders in each folder\n",
        "        for sub_folder in os.listdir(path_in):\n",
        "            print('---------{0}------------'.format(sub_folder))\n",
        "            path_in2 = os.path.join(path_in, sub_folder)\n",
        "\n",
        "            # Loop through files in each subfolder\n",
        "            for file_name in os.listdir(path_in2):\n",
        "                lbl_one = file_name[:-4]\n",
        "                print(file_name[:-4])\n",
        "\n",
        "                # Read data from the file using pandas\n",
        "                path_file = os.path.join(path_in2, file_name)\n",
        "                txt_data = np.array(pd.read_csv(path_file, delim_whitespace=True))\n",
        "                txt_data = txt_data[:, 1:]\n",
        "\n",
        "                # Extend the data list with the loaded data\n",
        "                data.extend(txt_data)\n",
        "\n",
        "                # Generate labels for each sample in 20 classes\n",
        "                lbl_all = ((lbl_one + ',') * txt_data.shape[0]).split(',')[:-1]\n",
        "                lbl_20_class.extend(lbl_all)\n",
        "\n",
        "                print(txt_data.shape)\n",
        "\n",
        "    return data, lbl_20_class\n",
        "\n",
        "data, lbl_20_class = load_and_preprocess_data('/content/Vicon Physical Action Data Set')\n"
      ],
      "metadata": {
        "colab": {
          "base_uri": "https://localhost:8080/"
        },
        "id": "-GlAnCMLYsm3",
        "outputId": "15944c3e-a24d-4e82-bea7-36ced9a91338"
      },
      "execution_count": null,
      "outputs": [
        {
          "output_type": "stream",
          "name": "stdout",
          "text": [
            "---------normal------------\n",
            "Seating\n",
            "(4244, 27)\n",
            "Waving\n",
            "(4305, 27)\n",
            "Jumping\n",
            "(4054, 27)\n",
            "Standing\n",
            "(3838, 27)\n",
            "Clapping\n",
            "(3952, 27)\n",
            "Running\n",
            "(4269, 27)\n",
            "Bowing\n",
            "(4272, 27)\n",
            "Handshaking\n",
            "(4197, 27)\n",
            "Walking\n",
            "(6373, 27)\n",
            "Hugging\n",
            "(4335, 27)\n",
            "---------aggressive------------\n",
            "Frontkicking\n",
            "(4146, 27)\n",
            "Hamering\n",
            "(6242, 27)\n",
            "Pulling\n",
            "(6399, 27)\n",
            "Pushing\n",
            "(4260, 27)\n",
            "Slapping\n",
            "(6519, 27)\n",
            "Kneeing\n",
            "(5516, 27)\n",
            "Sidekicking\n",
            "(4174, 27)\n",
            "Elbowing\n",
            "(4119, 27)\n",
            "Punching\n",
            "(4232, 27)\n",
            "Headering\n",
            "(3706, 27)\n",
            "---------normal------------\n",
            "Seating\n",
            "(1888, 27)\n",
            "Waving\n",
            "(2193, 27)\n",
            "Jumping\n",
            "(2285, 27)\n",
            "Standing\n",
            "(1999, 27)\n",
            "Clapping\n",
            "(2066, 27)\n",
            "Running\n",
            "(1059, 27)\n",
            "Bowing\n",
            "(1944, 27)\n",
            "Handshaking\n",
            "(1778, 27)\n",
            "Walking\n",
            "(1645, 27)\n",
            "Hugging\n",
            "(1624, 27)\n",
            "---------aggressive------------\n",
            "Frontkicking\n",
            "(1925, 27)\n",
            "Hamering\n",
            "(1893, 27)\n",
            "Pulling\n",
            "(1988, 27)\n",
            "Pushing\n",
            "(1508, 27)\n",
            "Slapping\n",
            "(1954, 27)\n",
            "Kneeing\n",
            "(1793, 27)\n",
            "Sidekicking\n",
            "(1986, 27)\n",
            "Elbowing\n",
            "(1691, 27)\n",
            "Punching\n",
            "(2167, 27)\n",
            "Headering\n",
            "(1885, 27)\n",
            "---------normal------------\n",
            "Seating\n",
            "(6779, 27)\n",
            "Waving\n",
            "(4048, 27)\n",
            "Jumping\n",
            "(4215, 27)\n",
            "Standing\n",
            "(3806, 27)\n",
            "Clapping\n",
            "(4441, 27)\n",
            "Running\n",
            "(4299, 27)\n",
            "Bowing\n",
            "(4505, 27)\n",
            "Handshaking\n",
            "(4433, 27)\n",
            "Walking\n",
            "(4426, 27)\n",
            "Hugging\n",
            "(6607, 27)\n",
            "---------aggressive------------\n",
            "Frontkicking\n",
            "(4122, 27)\n",
            "Hamering\n",
            "(6362, 27)\n",
            "Pulling\n",
            "(4484, 27)\n",
            "Pushing\n",
            "(4288, 27)\n",
            "Slapping\n",
            "(4293, 27)\n",
            "Kneeing\n",
            "(3182, 27)\n",
            "Sidekicking\n",
            "(4201, 27)\n",
            "Elbowing\n",
            "(4477, 27)\n",
            "Punching\n",
            "(4380, 27)\n",
            "Headering\n",
            "(6541, 27)\n",
            "---------normal------------\n",
            "Seating\n",
            "(3021, 27)\n",
            "Waving\n",
            "(2769, 27)\n",
            "Jumping\n",
            "(2957, 27)\n",
            "Standing\n",
            "(3162, 27)\n",
            "Clapping\n",
            "(3609, 27)\n",
            "Running\n",
            "(1534, 27)\n",
            "Bowing\n",
            "(3673, 27)\n",
            "Handshaking\n",
            "(3029, 27)\n",
            "Walking\n",
            "(2005, 27)\n",
            "Hugging\n",
            "(3307, 27)\n",
            "---------aggressive------------\n",
            "Frontkicking\n",
            "(3314, 27)\n",
            "Hamering\n",
            "(3926, 27)\n",
            "Pulling\n",
            "(3622, 27)\n",
            "Pushing\n",
            "(3126, 27)\n",
            "Slapping\n",
            "(3522, 27)\n",
            "Kneeing\n",
            "(3513, 27)\n",
            "Sidekicking\n",
            "(2335, 27)\n",
            "Elbowing\n",
            "(3532, 27)\n",
            "Punching\n",
            "(3557, 27)\n",
            "Headering\n",
            "(3832, 27)\n",
            "---------normal------------\n",
            "Seating\n",
            "(3763, 27)\n",
            "Waving\n",
            "(6416, 27)\n",
            "Jumping\n",
            "(2946, 27)\n",
            "Standing\n",
            "(4106, 27)\n",
            "Clapping\n",
            "(3045, 27)\n",
            "Running\n",
            "(3032, 27)\n",
            "Bowing\n",
            "(3751, 27)\n",
            "Handshaking\n",
            "(3078, 27)\n",
            "Walking\n",
            "(3087, 27)\n",
            "Hugging\n",
            "(4103, 27)\n",
            "---------aggressive------------\n",
            "Frontkicking\n",
            "(3324, 27)\n",
            "Hamering\n",
            "(3574, 27)\n",
            "Pulling\n",
            "(4235, 27)\n",
            "Pushing\n",
            "(3413, 27)\n",
            "Slapping\n",
            "(4223, 27)\n",
            "Kneeing\n",
            "(2977, 27)\n",
            "Sidekicking\n",
            "(4193, 27)\n",
            "Elbowing\n",
            "(2804, 27)\n",
            "Punching\n",
            "(3419, 27)\n",
            "Headering\n",
            "(4013, 27)\n",
            "---------normal------------\n",
            "Seating\n",
            "(6273, 27)\n",
            "Waving\n",
            "(4035, 27)\n",
            "Jumping\n",
            "(4142, 27)\n",
            "Standing\n",
            "(4215, 27)\n",
            "Clapping\n",
            "(4733, 27)\n",
            "Running\n",
            "(4154, 27)\n",
            "Bowing\n",
            "(4155, 27)\n",
            "Handshaking\n",
            "(4179, 27)\n",
            "Walking\n",
            "(5949, 27)\n",
            "Hugging\n",
            "(4763, 27)\n",
            "---------aggressive------------\n",
            "Frontkicking\n",
            "(4365, 27)\n",
            "Hamering\n",
            "(4138, 27)\n",
            "Pulling\n",
            "(3595, 27)\n",
            "Pushing\n",
            "(2831, 27)\n",
            "Slapping\n",
            "(6255, 27)\n",
            "Kneeing\n",
            "(5972, 27)\n",
            "Sidekicking\n",
            "(3689, 27)\n",
            "Elbowing\n",
            "(3649, 27)\n",
            "Punching\n",
            "(4757, 27)\n",
            "Headering\n",
            "(3695, 27)\n",
            "---------normal------------\n",
            "Seating\n",
            "(2096, 27)\n",
            "Running  [worse]\n",
            "(2093, 27)\n",
            "Jumping\n",
            "(2030, 27)\n",
            "Standing\n",
            "(2463, 27)\n",
            "Clapping\n",
            "(1822, 27)\n",
            "Running\n",
            "(2338, 27)\n",
            "Bowing\n",
            "(1943, 27)\n",
            "Handshaking\n",
            "(1591, 27)\n",
            "Walking\n",
            "(1555, 27)\n",
            "Hugging\n",
            "(2019, 27)\n",
            "---------aggressive------------\n",
            "Frontkicking\n",
            "(2133, 27)\n",
            "Hamering\n",
            "(1933, 27)\n",
            "Pulling\n",
            "(1788, 27)\n",
            "Pushing\n",
            "(1639, 27)\n",
            "Slapping\n",
            "(2462, 27)\n",
            "Kneeing\n",
            "(2471, 27)\n",
            "Sidekicking\n",
            "(2425, 27)\n",
            "Elbowing\n",
            "(2093, 27)\n",
            "Punching\n",
            "(1858, 27)\n",
            "Headering\n",
            "(1956, 27)\n",
            "---------normal------------\n",
            "Seating\n",
            "(2325, 27)\n",
            "Waving\n",
            "(1963, 27)\n",
            "Jumping\n",
            "(1099, 27)\n",
            "Standing\n",
            "(2352, 27)\n",
            "Clapping\n",
            "(1983, 27)\n",
            "Running\n",
            "(2287, 27)\n",
            "Bowing\n",
            "(1842, 27)\n",
            "Handshaking\n",
            "(1829, 27)\n",
            "Walking\n",
            "(1685, 27)\n",
            "Hugging\n",
            "(2010, 27)\n",
            "---------aggressive------------\n",
            "Frontkicking\n",
            "(1675, 27)\n",
            "Hamering\n",
            "(1465, 27)\n",
            "Pulling\n",
            "(2348, 27)\n",
            "Pushing\n",
            "(1483, 27)\n",
            "Slapping\n",
            "(1714, 27)\n",
            "Kneeing\n",
            "(1892, 27)\n",
            "Sidekicking\n",
            "(2271, 27)\n",
            "Elbowing\n",
            "(2012, 27)\n",
            "Punching\n",
            "(2099, 27)\n",
            "Headering\n",
            "(2473, 27)\n",
            "---------normal------------\n",
            "Seating\n",
            "(2273, 27)\n",
            "Waving\n",
            "(971, 27)\n",
            "Jumping\n",
            "(1906, 27)\n",
            "Standing\n",
            "(2101, 27)\n",
            "Clapping\n",
            "(1715, 27)\n",
            "Running\n",
            "(2241, 27)\n",
            "Bowing\n",
            "(2013, 27)\n",
            "Handshaking\n",
            "(2558, 27)\n",
            "Walking\n",
            "(1720, 27)\n",
            "Hugging\n",
            "(1972, 27)\n",
            "---------aggressive------------\n",
            "Frontkicking\n",
            "(2091, 27)\n",
            "Hamering\n",
            "(1901, 27)\n",
            "Pulling\n",
            "(1872, 27)\n",
            "Pushing\n",
            "(2095, 27)\n",
            "Slapping\n",
            "(2136, 27)\n",
            "Kneeing\n",
            "(2460, 27)\n",
            "Sidekicking\n",
            "(1444, 27)\n",
            "Elbowing\n",
            "(2396, 27)\n",
            "Punching\n",
            "(2485, 27)\n",
            "Headering\n",
            "(1510, 27)\n",
            "---------normal------------\n",
            "Seating\n",
            "(2337, 27)\n",
            "Waving\n",
            "(2198, 27)\n",
            "Jumping\n",
            "(1671, 27)\n",
            "Standing\n",
            "(2176, 27)\n",
            "Clapping\n",
            "(1928, 27)\n",
            "Running\n",
            "(1632, 27)\n",
            "Bowing\n",
            "(1590, 27)\n",
            "Handshaking\n",
            "(2000, 27)\n",
            "Walking\n",
            "(2302, 27)\n",
            "Hugging\n",
            "(2189, 27)\n",
            "---------aggressive------------\n",
            "Frontkicking\n",
            "(1474, 27)\n",
            "Hamering\n",
            "(782, 27)\n",
            "Pulling\n",
            "(1142, 27)\n",
            "Pushing\n",
            "(1681, 27)\n",
            "Slapping\n",
            "(2155, 27)\n",
            "Kneeing\n",
            "(1622, 27)\n",
            "Sidekicking\n",
            "(792, 27)\n",
            "Elbowing\n",
            "(1510, 27)\n",
            "Punching\n",
            "(1807, 27)\n",
            "Headering\n",
            "(2115, 27)\n"
          ]
        }
      ]
    },
    {
      "cell_type": "markdown",
      "source": [
        "#preprocessing the data"
      ],
      "metadata": {
        "id": "ZZN0KGVS3h7B"
      }
    },
    {
      "cell_type": "code",
      "source": [
        "from sklearn.preprocessing import LabelEncoder, MinMaxScaler\n",
        "import numpy as np\n",
        "\n",
        "def preprocess_data(data, lbl_20_class):\n",
        "    \"\"\"\n",
        "    Preprocess the data and labels using LabelEncoder and MinMaxScaler.\n",
        "\n",
        "    Parameters:\n",
        "    - data (list): List containing the loaded data.\n",
        "    - lbl_20_class (list): List containing labels for each sample in 20 classes.\n",
        "\n",
        "    Returns:\n",
        "    - Data_main (numpy.ndarray): Preprocessed data using MinMaxScaler.\n",
        "    - Data_label (numpy.ndarray): Encoded labels using LabelEncoder.\n",
        "    \"\"\"\n",
        "\n",
        "    print('-----------Preprocessing----------------')\n",
        "\n",
        "    # Initialize LabelEncoder\n",
        "    encoder = LabelEncoder()\n",
        "\n",
        "    # Encode the 20-class labels using LabelEncoder\n",
        "    lbl_20_class = np.array(lbl_20_class)\n",
        "    lbl_20_class = encoder.fit_transform(lbl_20_class.reshape(-1, 1))\n",
        "\n",
        "    # Print the encoded labels\n",
        "    print(lbl_20_class)\n",
        "\n",
        "    # Separate data and labels\n",
        "    Data_label = lbl_20_class\n",
        "    Data_main = np.array(data)\n",
        "\n",
        "    # Initialize MinMaxScaler\n",
        "    scaler = MinMaxScaler()\n",
        "\n",
        "    # Fit and transform the data using MinMaxScaler\n",
        "    scaler.fit(Data_main)\n",
        "    Data_main = scaler.transform(Data_main)\n",
        "\n",
        "    # Print the preprocessed data\n",
        "    print(Data_main)\n",
        "\n",
        "    return Data_main, Data_label\n",
        "\n",
        "# Example usage:\n",
        "# Assuming loaded_data and labels_20_classes are defined before calling the function\n",
        "Data_main, Data_label = preprocess_data(data, lbl_20_class)\n"
      ],
      "metadata": {
        "colab": {
          "base_uri": "https://localhost:8080/"
        },
        "id": "PB0mlAzQ3kPL",
        "outputId": "3d012957-11e7-4253-fca3-cc6d32e62cfd"
      },
      "execution_count": null,
      "outputs": [
        {
          "output_type": "stream",
          "name": "stdout",
          "text": [
            "-----------Preprocessing----------------\n",
            "[15 15 15 ...  6  6  6]\n",
            "[[0.46758725 0.35824329 0.58104704 ... 0.52972986 0.53253634 0.08732088]\n",
            " [0.46758725 0.35824329 0.58104704 ... 0.52972986 0.53253634 0.08732088]\n",
            " [0.46758491 0.35821252 0.58103576 ... 0.52972986 0.53253634 0.08732088]\n",
            " ...\n",
            " [0.63005261 0.35064031 0.69558597 ... 0.72931357 0.31153287 0.13836476]\n",
            " [0.63005261 0.35064031 0.69558597 ... 0.72931357 0.31153287 0.13836476]\n",
            " [0.63254589 0.35108819 0.69489047 ... 0.72931357 0.31153287 0.13836476]]\n"
          ]
        }
      ]
    },
    {
      "cell_type": "code",
      "source": [
        "!pip install pytictoc"
      ],
      "metadata": {
        "colab": {
          "base_uri": "https://localhost:8080/"
        },
        "id": "Qqnue96TarPg",
        "outputId": "e450f2ff-af99-47c9-e4d5-111bd7847cb8"
      },
      "execution_count": null,
      "outputs": [
        {
          "output_type": "stream",
          "name": "stdout",
          "text": [
            "Collecting pytictoc\n",
            "  Downloading pytictoc-1.5.3-py2.py3-none-any.whl (4.0 kB)\n",
            "Installing collected packages: pytictoc\n",
            "Successfully installed pytictoc-1.5.3\n"
          ]
        }
      ]
    },
    {
      "cell_type": "markdown",
      "source": [
        "#import important libraries for modeling"
      ],
      "metadata": {
        "id": "C007UYu78C-L"
      }
    },
    {
      "cell_type": "code",
      "source": [
        "import numpy as np\n",
        "import os\n",
        "from pytictoc import TicToc\n",
        "import matplotlib.pyplot as plt\n",
        "from sklearn.metrics import classification_report, confusion_matrix\n",
        "from sklearn.metrics import accuracy_score\n",
        "from sklearn.neighbors import KNeighborsClassifier\n",
        "from sklearn.tree import DecisionTreeClassifier\n",
        "from sklearn.naive_bayes import BernoulliNB,MultinomialNB\n",
        "from sklearn.linear_model import LogisticRegression\n",
        "from sklearn.neural_network import MLPClassifier"
      ],
      "metadata": {
        "id": "5duYOQkR6xBo"
      },
      "execution_count": null,
      "outputs": []
    },
    {
      "cell_type": "code",
      "source": [
        "\n",
        "def run_several_ML_DL_algorithms(Train_data,Test_data,Train_lable,Test_lable,str_out):\n",
        "\n",
        "\n",
        "    print(np.shape(Test_data))\n",
        "    print(np.shape(Train_data))\n",
        "    print(np.shape(Train_lable))\n",
        "    print(np.shape(Test_lable))\n",
        "\n",
        "    algorithms_name=['DT','KNN','NB','MLP','LR']\n",
        "    alg_num=len(algorithms_name)\n",
        "    accuracy_array=np.zeros(alg_num)\n",
        "    precision_array=np.zeros(alg_num)\n",
        "    recall_array=np.zeros(alg_num)\n",
        "    f1_score_array=np.zeros(alg_num)\n",
        "    time_array=np.zeros(alg_num)\n",
        "\n",
        "    t = TicToc()\n",
        "\n",
        "\n",
        "    print('---------------------DT---------------------')\n",
        "    K=0;\n",
        "    t.tic() #Start timer\n",
        "    classifier_DT = DecisionTreeClassifier(max_depth=1000,random_state=0)\n",
        "    classifier_DT.fit(Train_data, Train_lable)\n",
        "    Test_predict = classifier_DT.predict(Test_data)\n",
        "    Con_matrix=confusion_matrix(Test_lable, Test_predict)\n",
        "    TimeDT=t.tocvalue() #Time elapsed since t.tic()\n",
        "    classfi_report=classification_report(Test_lable, Test_predict,output_dict=True)\n",
        "\n",
        "    # save to array\n",
        "    accuracy_array[K]=accuracy_score(Test_lable, Test_predict)\n",
        "    precision_array[K]= classfi_report['macro avg']['precision']\n",
        "    recall_array[K]= classfi_report['macro avg']['recall']\n",
        "    f1_score_array[K]= classfi_report['macro avg']['f1-score']\n",
        "    time_array[K]=TimeDT\n",
        "    print(accuracy_array[K])\n",
        "\n",
        "\n",
        "    print('--------------NB----------------')\n",
        "    K+=1;\n",
        "    t.tic() #Start timer\n",
        "    classifier = MultinomialNB()\n",
        "    classifier.fit(Train_data, Train_lable)\n",
        "    Test_predict = classifier.predict(Test_data)\n",
        "    TimeNB=t.tocvalue() #Time elapsed since t.tic()\n",
        "    Con_matrix=confusion_matrix(Test_lable, Test_predict)\n",
        "    classfi_report=classification_report(Test_lable, Test_predict,output_dict=True)\n",
        "\n",
        "\n",
        "    # save to array\n",
        "    accuracy_array[K]=accuracy_score(Test_lable, Test_predict)\n",
        "    precision_array[K]= classfi_report['macro avg']['precision']\n",
        "    recall_array[K]= classfi_report['macro avg']['recall']\n",
        "    f1_score_array[K]= classfi_report['macro avg']['f1-score']\n",
        "    time_array[K]=TimeNB\n",
        "    print(accuracy_array[K])\n",
        "    print('---------------------KNN---------------------')\n",
        "    K+=1;\n",
        "    t.tic() #Start timer\n",
        "    classifier=KNeighborsClassifier(n_neighbors=10)\n",
        "    classifier.fit(Train_data, Train_lable)\n",
        "    Test_predict = classifier.predict(Test_data)\n",
        "    TimeKNN=t.tocvalue() #Time elapsed since t.tic()\n",
        "    Con_matrix=confusion_matrix(Test_lable, Test_predict)\n",
        "    classfi_report=classification_report(Test_lable, Test_predict,output_dict=True)\n",
        "\n",
        "    # save to array\n",
        "    accuracy_array[K]=accuracy_score(Test_lable, Test_predict)\n",
        "    precision_array[K]= classfi_report['macro avg']['precision']\n",
        "    recall_array[K]= classfi_report['macro avg']['recall']\n",
        "    f1_score_array[K]= classfi_report['macro avg']['f1-score']\n",
        "    time_array[K]=TimeKNN\n",
        "    print(accuracy_array[K])\n",
        "\n",
        "    print('---------------------MLP---------------------')\n",
        "    K+=1;\n",
        "    t.tic() #Start timer\n",
        "    classifier=MLPClassifier( solver='adam', random_state=0,hidden_layer_sizes=[5], max_iter=200)\n",
        "    classifier.fit(Train_data, Train_lable)\n",
        "    Test_predict = classifier.predict(Test_data)\n",
        "    TimeMLP=t.tocvalue() #Time elapsed since t.tic()\n",
        "    Con_matrix=confusion_matrix(Test_lable, Test_predict)\n",
        "    classfi_report=classification_report(Test_lable, Test_predict,output_dict=True)\n",
        "\n",
        "    # save to array\n",
        "    accuracy_array[K]=accuracy_score(Test_lable, Test_predict)\n",
        "    precision_array[K]= classfi_report['macro avg']['precision']\n",
        "    recall_array[K]= classfi_report['macro avg']['recall']\n",
        "    f1_score_array[K]= classfi_report['macro avg']['f1-score']\n",
        "    time_array[K]=TimeMLP\n",
        "    print(accuracy_array[K])\n",
        "\n",
        "    print('---------------------LogisticRegression---------------------')\n",
        "    K+=1;\n",
        "    t.tic() #Start timer\n",
        "    classifier=LogisticRegression()\n",
        "    classifier.fit(Train_data, Train_lable)\n",
        "    Test_predict = classifier.predict(Test_data)\n",
        "    TimeLR=t.tocvalue() #Time elapsed since t.tic()\n",
        "    Con_matrix=confusion_matrix(Test_lable, Test_predict)\n",
        "    classfi_report=classification_report(Test_lable, Test_predict,output_dict=True)\n",
        "\n",
        "    # save to array\n",
        "    accuracy_array[K]=accuracy_score(Test_lable, Test_predict)\n",
        "    precision_array[K]= classfi_report['macro avg']['precision']\n",
        "    recall_array[K]= classfi_report['macro avg']['recall']\n",
        "    f1_score_array[K]= classfi_report['macro avg']['f1-score']\n",
        "    time_array[K]=TimeLR\n",
        "    print(accuracy_array[K])\n",
        "\n",
        "\n",
        "    H=6\n",
        "    L=8\n",
        "\n",
        "\n",
        "\n",
        "\n",
        "\n",
        "    print('--------------------result--------------------------')\n",
        "    fig1=plt.figure(figsize=(H, L)) #\n",
        "    plt.bar(algorithms_name, accuracy_array,color = ['red', 'green'])\n",
        "    plt.xticks(algorithms_name, rotation=70)\n",
        "    plt.ylabel('percent%')\n",
        "    plt.title('Accuracy of all Algorithm')\n",
        "    plt.xlabel(\"Algoritm names\")\n",
        "    for i, v in enumerate(accuracy_array):\n",
        "        v=round(v,2)\n",
        "        plt.text(i-0.2 , v+0.01 , str(v), color='blue', fontweight='bold')\n",
        "    fig1.show()\n",
        "    plt.savefig(os.path.join(str_out+' accuracy.png'), dpi=300, format='png', bbox_inches='tight') # use format='svg' or 'pdf' for vectorial pictures\n",
        "\n",
        "\n",
        "    fig2=plt.figure(figsize=(H, L)) #\n",
        "    plt.bar(algorithms_name, precision_array,color = ['red', 'green'])\n",
        "    plt.xticks(algorithms_name, rotation=70)\n",
        "    plt.ylabel('percent%')\n",
        "    plt.title('Precision of all Algorithm')\n",
        "    plt.xlabel(\"Algoritm names\")\n",
        "    for i, v in enumerate(precision_array):\n",
        "        v=round(v,2)\n",
        "        plt.text(i-0.2 , v+0.01 , str(v), color='blue', fontweight='bold')\n",
        "    fig2.show()\n",
        "    plt.savefig(os.path.join(str_out+' precision.png'), dpi=300, format='png', bbox_inches='tight') # use format='svg' or 'pdf' for vectorial pictures\n",
        "\n",
        "\n",
        "\n",
        "\n",
        "    fig3=plt.figure(figsize=(H, L)) #\n",
        "    plt.bar(algorithms_name, recall_array,color = ['red', 'green'])\n",
        "    plt.xticks(algorithms_name, rotation=70)\n",
        "    plt.ylabel('percent%')\n",
        "    plt.title('Recallof all Algorithm')\n",
        "    plt.xlabel(\"Algoritm names\")\n",
        "    for i, v in enumerate(recall_array):\n",
        "        v=round(v,2)\n",
        "        plt.text(i-0.2 , v+0.01 , str(v), color='blue', fontweight='bold')\n",
        "    fig3.show()\n",
        "    plt.savefig(os.path.join(str_out+' recall.png'), dpi=300, format='png', bbox_inches='tight') # use format='svg' or 'pdf' for vectorial pictures\n",
        "\n",
        "\n",
        "\n",
        "    fig4=plt.figure(figsize=(H, L)) #\n",
        "    plt.bar(algorithms_name, f1_score_array,color = ['red', 'green'])\n",
        "    plt.xticks(algorithms_name, rotation=70)\n",
        "    plt.ylabel('percent%')\n",
        "    plt.title('f1-score of all Algorithm')\n",
        "    plt.xlabel(\"Algoritm names\")\n",
        "    for i, v in enumerate(f1_score_array):\n",
        "        v=round(v,2)\n",
        "        plt.text(i-0.2 , v+0.01 , str(v), color='blue', fontweight='bold')\n",
        "    fig4.show()\n",
        "    plt.savefig(os.path.join(str_out+' f1_score.png'), dpi=300, format='png', bbox_inches='tight') # use format='svg' or 'pdf' for vectorial pictures\n",
        "\n",
        "\n",
        "\n",
        "    fig5=plt.figure(figsize=(H, L)) #\n",
        "    plt.bar(algorithms_name, time_array,color = ['blue', 'green'])\n",
        "    plt.xticks(algorithms_name, rotation=70)\n",
        "    plt.ylabel('time(s)')\n",
        "    plt.title('time of all Algorithm')\n",
        "    plt.xlabel(\"Algoritm names\")\n",
        "    for i, v in enumerate(time_array):\n",
        "        v=round(v,2)\n",
        "        plt.text(i-0.2 , v+0.01 , str(v), color='blue', fontweight='bold')\n",
        "    plt.savefig(os.path.join(str_out+' time.png'), dpi=300, format='png', bbox_inches='tight') # use format='svg' or 'pdf' for vectorial pictures\n",
        "    fig5.show()\n",
        "\n",
        "\n",
        "    np.savetxt(str_out+'accuracy.csv', accuracy_array, delimiter=',')\n",
        "    np.savetxt(str_out+' precision_array.csv', precision_array, delimiter=',')\n",
        "    np.savetxt(str_out+'recall_array.csv', recall_array, delimiter=',')\n",
        "    np.savetxt(str_out+' time_array.csv', time_array, delimiter=',')\n",
        "    np.savetxt(str_out+' f1-score.csv', f1_score_array, delimiter=',')"
      ],
      "metadata": {
        "id": "WZkUpB1_aag1"
      },
      "execution_count": null,
      "outputs": []
    },
    {
      "cell_type": "code",
      "source": [
        "from sklearn.model_selection import train_test_split\n",
        "Train_data, Test_data, Train_lable, Test_lable = train_test_split(Data_main, Data_label, test_size=0.20)\n"
      ],
      "metadata": {
        "id": "p8Pm0Qi4akga"
      },
      "execution_count": null,
      "outputs": []
    },
    {
      "cell_type": "code",
      "source": [
        "run_several_ML_DL_algorithms(Train_data, Test_data, Train_lable, Test_lable ,\"\")"
      ],
      "metadata": {
        "colab": {
          "base_uri": "https://localhost:8080/",
          "height": 1000
        },
        "id": "-BlEbjFKaxxk",
        "outputId": "ea078a54-5f32-4477-a5e5-618a372775c4"
      },
      "execution_count": null,
      "outputs": [
        {
          "output_type": "stream",
          "name": "stdout",
          "text": [
            "(121037, 27)\n",
            "(484144, 27)\n",
            "(484144,)\n",
            "(121037,)\n",
            "---------------------DT---------------------\n",
            "0.9984798036963903\n",
            "--------------NB----------------\n",
            "0.18519130513809826\n",
            "---------------------KNN---------------------\n",
            "0.9984963275692557\n",
            "---------------------MLP---------------------\n",
            "0.507472921503342\n",
            "---------------------LogisticRegression---------------------\n",
            "0.5318125862339615\n",
            "--------------------result--------------------------\n"
          ]
        },
        {
          "output_type": "display_data",
          "data": {
            "text/plain": [
              "<Figure size 600x800 with 1 Axes>"
            ],
            "image/png": "[encoded data removed]"
          },
          "metadata": {}
        },
        {
          "output_type": "display_data",
          "data": {
            "text/plain": [
              "<Figure size 600x800 with 1 Axes>"
            ],
            "image/png": "[encoded data removed]"
          },
          "metadata": {}
        },
        {
          "output_type": "display_data",
          "data": {
            "text/plain": [
              "<Figure size 600x800 with 1 Axes>"
            ],
            "image/png": "[encoded data removed]"
          },
          "metadata": {}
        },
        {
          "output_type": "display_data",
          "data": {
            "text/plain": [
              "<Figure size 600x800 with 1 Axes>"
            ],
            "image/png": "[encoded data removed]"
          },
          "metadata": {}
        },
        {
          "output_type": "display_data",
          "data": {
            "text/plain": [
              "<Figure size 600x800 with 1 Axes>"
            ],
            "image/png": "[encoded data removed]"
          },
          "metadata": {}
        }
      ]
    },
    {
      "cell_type": "code",
      "source": [],
      "metadata": {
        "id": "u-ptLiuBMGM_"
      },
      "execution_count": null,
      "outputs": []
    },
    {
      "cell_type": "markdown",
      "source": [
        "#build the third system (netwok protocols analysis)"
      ],
      "metadata": {
        "id": "HQrdMCZiTV1a"
      }
    },
    {
      "cell_type": "markdown",
      "source": [
        "#import the important libraries"
      ],
      "metadata": {
        "id": "tc5CvFJlfH3G"
      }
    },
    {
      "cell_type": "code",
      "source": [
        "import pandas as pd\n",
        "import tensorflow as tf\n",
        "import numpy as np\n",
        "from imblearn.over_sampling import SMOTE\n",
        "import pandas as pd\n",
        "from sklearn.model_selection import train_test_split\n",
        "from sklearn.preprocessing import MinMaxScaler\n",
        "from sklearn.svm import SVC\n",
        "from sklearn.tree import DecisionTreeClassifier\n",
        "from sklearn.ensemble import RandomForestClassifier\n",
        "from sklearn.metrics import precision_score, recall_score, f1_score\n",
        "import xgboost as xgb\n",
        "import matplotlib.pyplot as plt\n",
        "import networkx as nx\n",
        "from matplotlib.animation import FuncAnimation\n",
        "from IPython.display import HTML\n",
        "from mpl_toolkits.mplot3d import Axes3D"
      ],
      "metadata": {
        "id": "VXPXFAARfIFs"
      },
      "execution_count": null,
      "outputs": []
    },
    {
      "cell_type": "markdown",
      "source": [
        "#read the data set using pandas"
      ],
      "metadata": {
        "id": "r7AExfUAgMSZ"
      }
    },
    {
      "cell_type": "code",
      "source": [
        "data_path=\"/content/data.csv\"\n",
        "data = pd.read_csv(data_path)"
      ],
      "metadata": {
        "id": "G4LXXGC_fSGG"
      },
      "execution_count": null,
      "outputs": []
    },
    {
      "cell_type": "markdown",
      "source": [
        "#explore the data set"
      ],
      "metadata": {
        "id": "RsboMfyKgXFW"
      }
    },
    {
      "cell_type": "code",
      "source": [
        "data.info()"
      ],
      "metadata": {
        "colab": {
          "base_uri": "https://localhost:8080/"
        },
        "id": "lIHXf0tygUtf",
        "outputId": "e33f4f3c-a66c-48a9-b3b5-deb9511e9e17"
      },
      "execution_count": null,
      "outputs": [
        {
          "output_type": "stream",
          "name": "stdout",
          "text": [
            "<class 'pandas.core.frame.DataFrame'>\n",
            "RangeIndex: 7199 entries, 0 to 7198\n",
            "Data columns (total 42 columns):\n",
            " #   Column  Non-Null Count  Dtype  \n",
            "---  ------  --------------  -----  \n",
            " 0   0       7199 non-null   int64  \n",
            " 1   0.1     7199 non-null   int64  \n",
            " 2   0.2     7199 non-null   int64  \n",
            " 3   7       7199 non-null   int64  \n",
            " 4   65      7199 non-null   int64  \n",
            " 5   7.1     7199 non-null   int64  \n",
            " 6   71      7199 non-null   int64  \n",
            " 7   9       7199 non-null   int64  \n",
            " 8   6       7199 non-null   int64  \n",
            " 9   11      7199 non-null   int64  \n",
            " 10  6.1     7199 non-null   int64  \n",
            " 11  23      7199 non-null   int64  \n",
            " 12  95      7199 non-null   int64  \n",
            " 13  5       7199 non-null   int64  \n",
            " 14  11.1    7199 non-null   int64  \n",
            " 15  1.2     7199 non-null   float64\n",
            " 16  5.1     7199 non-null   int64  \n",
            " 17  1       7199 non-null   int64  \n",
            " 18  0.3     7199 non-null   int64  \n",
            " 19  0.4     7199 non-null   int64  \n",
            " 20  0.5     7199 non-null   int64  \n",
            " 21  0.6     7199 non-null   int64  \n",
            " 22  0.7     7199 non-null   int64  \n",
            " 23  0.8     7199 non-null   int64  \n",
            " 24  0.9     7199 non-null   int64  \n",
            " 25  0.10    7199 non-null   int64  \n",
            " 26  0.11    7199 non-null   int64  \n",
            " 27  0.12    7199 non-null   int64  \n",
            " 28  0.13    7199 non-null   int64  \n",
            " 29  0.14    7199 non-null   int64  \n",
            " 30  0.15    7199 non-null   int64  \n",
            " 31  1.1     7199 non-null   int64  \n",
            " 32  0.16    7199 non-null   int64  \n",
            " 33  0.17    7199 non-null   int64  \n",
            " 34  0.18    7199 non-null   int64  \n",
            " 35  0.19    7199 non-null   int64  \n",
            " 36  0.20    7199 non-null   int64  \n",
            " 37  65.1    7199 non-null   int64  \n",
            " 38  0.21    7199 non-null   int64  \n",
            " 39  0.22    7199 non-null   int64  \n",
            " 40  208     7199 non-null   int64  \n",
            " 41  -1      7199 non-null   int64  \n",
            "dtypes: float64(1), int64(41)\n",
            "memory usage: 2.3 MB\n"
          ]
        }
      ]
    },
    {
      "cell_type": "code",
      "source": [
        "data.describe()"
      ],
      "metadata": {
        "colab": {
          "base_uri": "https://localhost:8080/",
          "height": 350
        },
        "id": "41_MWzOugbE3",
        "outputId": "4aca7416-3ff6-4cb0-f2f1-a32862b96c8c"
      },
      "execution_count": null,
      "outputs": [
        {
          "output_type": "execute_result",
          "data": {
            "text/plain": [
              "                 0          0.1          0.2            7            65  \\\n",
              "count  7199.000000  7199.000000  7199.000000  7199.000000   7199.000000   \n",
              "mean   1179.663842    11.501597    29.504098     2.135991    202.735936   \n",
              "std     692.391869     6.921821    17.317017     2.702377    737.913875   \n",
              "min       0.000000     0.000000     0.000000     0.000000     12.000000   \n",
              "25%     600.000000     6.000000    15.000000     0.000000     57.000000   \n",
              "50%    1200.000000    12.000000    30.000000     1.000000     77.000000   \n",
              "75%    1779.500000    17.500000    44.500000     3.000000    112.000000   \n",
              "max    2359.000000    23.000000    59.000000    21.000000  15607.000000   \n",
              "\n",
              "               7.1            71             9            6           11  ...  \\\n",
              "count  7199.000000   7199.000000   7199.000000  7199.000000  7199.000000  ...   \n",
              "mean      8.453118    748.881095     72.141686     6.027782    13.387276  ...   \n",
              "std       2.673383   3630.482189    406.533328     0.814945     4.512005  ...   \n",
              "min       0.000000     15.000000      0.000000     4.000000     5.000000  ...   \n",
              "25%       7.000000    106.000000     16.000000     6.000000    10.000000  ...   \n",
              "50%       8.000000    162.000000     29.000000     6.000000    13.000000  ...   \n",
              "75%      10.000000    287.000000     48.000000     6.000000    15.000000  ...   \n",
              "max      37.000000  84500.000000  13591.000000    11.000000    42.000000  ...   \n",
              "\n",
              "              0.16         0.17         0.18         0.19         0.20  \\\n",
              "count  7199.000000  7199.000000  7199.000000  7199.000000  7199.000000   \n",
              "mean      0.104737     0.100986     0.106543     0.093068     0.057925   \n",
              "std       0.306235     0.301331     0.308552     0.290549     0.233617   \n",
              "min       0.000000     0.000000     0.000000     0.000000     0.000000   \n",
              "25%       0.000000     0.000000     0.000000     0.000000     0.000000   \n",
              "50%       0.000000     0.000000     0.000000     0.000000     0.000000   \n",
              "75%       0.000000     0.000000     0.000000     0.000000     0.000000   \n",
              "max       1.000000     1.000000     1.000000     1.000000     1.000000   \n",
              "\n",
              "               65.1         0.21         0.22          208           -1  \n",
              "count   7199.000000  7199.000000  7199.000000  7199.000000  7199.000000  \n",
              "mean     198.538408     0.251424     5.805806   251.827198    -0.933324  \n",
              "std      725.231555     1.176842    22.227525    43.219695     0.359060  \n",
              "min       12.000000     0.000000     0.000000   190.000000    -1.000000  \n",
              "25%       56.000000     0.000000     0.000000   230.000000    -1.000000  \n",
              "50%       75.000000     0.000000     2.000000   243.000000    -1.000000  \n",
              "75%      109.000000     0.000000     5.000000   264.000000    -1.000000  \n",
              "max    14918.000000    25.000000   936.000000  1736.000000     1.000000  \n",
              "\n",
              "[8 rows x 42 columns]"
            ],
            "text/html": [
              "\n",
              "  <div id=\"df-6e10f1b1-6277-4419-b421-288bb14a90f7\" class=\"colab-df-container\">\n",
              "    <div>\n",
              "<style scoped>\n",
              "    .dataframe tbody tr th:only-of-type {\n",
              "        vertical-align: middle;\n",
              "    }\n",
              "\n",
              "    .dataframe tbody tr th {\n",
              "        vertical-align: top;\n",
              "    }\n",
              "\n",
              "    .dataframe thead th {\n",
              "        text-align: right;\n",
              "    }\n",
              "</style>\n",
              "<table border=\"1\" class=\"dataframe\">\n",
              "  <thead>\n",
              "    <tr style=\"text-align: right;\">\n",
              "      <th></th>\n",
              "      <th>0</th>\n",
              "      <th>0.1</th>\n",
              "      <th>0.2</th>\n",
              "      <th>7</th>\n",
              "      <th>65</th>\n",
              "      <th>7.1</th>\n",
              "      <th>71</th>\n",
              "      <th>9</th>\n",
              "      <th>6</th>\n",
              "      <th>11</th>\n",
              "      <th>...</th>\n",
              "      <th>0.16</th>\n",
              "      <th>0.17</th>\n",
              "      <th>0.18</th>\n",
              "      <th>0.19</th>\n",
              "      <th>0.20</th>\n",
              "      <th>65.1</th>\n",
              "      <th>0.21</th>\n",
              "      <th>0.22</th>\n",
              "      <th>208</th>\n",
              "      <th>-1</th>\n",
              "    </tr>\n",
              "  </thead>\n",
              "  <tbody>\n",
              "    <tr>\n",
              "      <th>count</th>\n",
              "      <td>7199.000000</td>\n",
              "      <td>7199.000000</td>\n",
              "      <td>7199.000000</td>\n",
              "      <td>7199.000000</td>\n",
              "      <td>7199.000000</td>\n",
              "      <td>7199.000000</td>\n",
              "      <td>7199.000000</td>\n",
              "      <td>7199.000000</td>\n",
              "      <td>7199.000000</td>\n",
              "      <td>7199.000000</td>\n",
              "      <td>...</td>\n",
              "      <td>7199.000000</td>\n",
              "      <td>7199.000000</td>\n",
              "      <td>7199.000000</td>\n",
              "      <td>7199.000000</td>\n",
              "      <td>7199.000000</td>\n",
              "      <td>7199.000000</td>\n",
              "      <td>7199.000000</td>\n",
              "      <td>7199.000000</td>\n",
              "      <td>7199.000000</td>\n",
              "      <td>7199.000000</td>\n",
              "    </tr>\n",
              "    <tr>\n",
              "      <th>mean</th>\n",
              "      <td>1179.663842</td>\n",
              "      <td>11.501597</td>\n",
              "      <td>29.504098</td>\n",
              "      <td>2.135991</td>\n",
              "      <td>202.735936</td>\n",
              "      <td>8.453118</td>\n",
              "      <td>748.881095</td>\n",
              "      <td>72.141686</td>\n",
              "      <td>6.027782</td>\n",
              "      <td>13.387276</td>\n",
              "      <td>...</td>\n",
              "      <td>0.104737</td>\n",
              "      <td>0.100986</td>\n",
              "      <td>0.106543</td>\n",
              "      <td>0.093068</td>\n",
              "      <td>0.057925</td>\n",
              "      <td>198.538408</td>\n",
              "      <td>0.251424</td>\n",
              "      <td>5.805806</td>\n",
              "      <td>251.827198</td>\n",
              "      <td>-0.933324</td>\n",
              "    </tr>\n",
              "    <tr>\n",
              "      <th>std</th>\n",
              "      <td>692.391869</td>\n",
              "      <td>6.921821</td>\n",
              "      <td>17.317017</td>\n",
              "      <td>2.702377</td>\n",
              "      <td>737.913875</td>\n",
              "      <td>2.673383</td>\n",
              "      <td>3630.482189</td>\n",
              "      <td>406.533328</td>\n",
              "      <td>0.814945</td>\n",
              "      <td>4.512005</td>\n",
              "      <td>...</td>\n",
              "      <td>0.306235</td>\n",
              "      <td>0.301331</td>\n",
              "      <td>0.308552</td>\n",
              "      <td>0.290549</td>\n",
              "      <td>0.233617</td>\n",
              "      <td>725.231555</td>\n",
              "      <td>1.176842</td>\n",
              "      <td>22.227525</td>\n",
              "      <td>43.219695</td>\n",
              "      <td>0.359060</td>\n",
              "    </tr>\n",
              "    <tr>\n",
              "      <th>min</th>\n",
              "      <td>0.000000</td>\n",
              "      <td>0.000000</td>\n",
              "      <td>0.000000</td>\n",
              "      <td>0.000000</td>\n",
              "      <td>12.000000</td>\n",
              "      <td>0.000000</td>\n",
              "      <td>15.000000</td>\n",
              "      <td>0.000000</td>\n",
              "      <td>4.000000</td>\n",
              "      <td>5.000000</td>\n",
              "      <td>...</td>\n",
              "      <td>0.000000</td>\n",
              "      <td>0.000000</td>\n",
              "      <td>0.000000</td>\n",
              "      <td>0.000000</td>\n",
              "      <td>0.000000</td>\n",
              "      <td>12.000000</td>\n",
              "      <td>0.000000</td>\n",
              "      <td>0.000000</td>\n",
              "      <td>190.000000</td>\n",
              "      <td>-1.000000</td>\n",
              "    </tr>\n",
              "    <tr>\n",
              "      <th>25%</th>\n",
              "      <td>600.000000</td>\n",
              "      <td>6.000000</td>\n",
              "      <td>15.000000</td>\n",
              "      <td>0.000000</td>\n",
              "      <td>57.000000</td>\n",
              "      <td>7.000000</td>\n",
              "      <td>106.000000</td>\n",
              "      <td>16.000000</td>\n",
              "      <td>6.000000</td>\n",
              "      <td>10.000000</td>\n",
              "      <td>...</td>\n",
              "      <td>0.000000</td>\n",
              "      <td>0.000000</td>\n",
              "      <td>0.000000</td>\n",
              "      <td>0.000000</td>\n",
              "      <td>0.000000</td>\n",
              "      <td>56.000000</td>\n",
              "      <td>0.000000</td>\n",
              "      <td>0.000000</td>\n",
              "      <td>230.000000</td>\n",
              "      <td>-1.000000</td>\n",
              "    </tr>\n",
              "    <tr>\n",
              "      <th>50%</th>\n",
              "      <td>1200.000000</td>\n",
              "      <td>12.000000</td>\n",
              "      <td>30.000000</td>\n",
              "      <td>1.000000</td>\n",
              "      <td>77.000000</td>\n",
              "      <td>8.000000</td>\n",
              "      <td>162.000000</td>\n",
              "      <td>29.000000</td>\n",
              "      <td>6.000000</td>\n",
              "      <td>13.000000</td>\n",
              "      <td>...</td>\n",
              "      <td>0.000000</td>\n",
              "      <td>0.000000</td>\n",
              "      <td>0.000000</td>\n",
              "      <td>0.000000</td>\n",
              "      <td>0.000000</td>\n",
              "      <td>75.000000</td>\n",
              "      <td>0.000000</td>\n",
              "      <td>2.000000</td>\n",
              "      <td>243.000000</td>\n",
              "      <td>-1.000000</td>\n",
              "    </tr>\n",
              "    <tr>\n",
              "      <th>75%</th>\n",
              "      <td>1779.500000</td>\n",
              "      <td>17.500000</td>\n",
              "      <td>44.500000</td>\n",
              "      <td>3.000000</td>\n",
              "      <td>112.000000</td>\n",
              "      <td>10.000000</td>\n",
              "      <td>287.000000</td>\n",
              "      <td>48.000000</td>\n",
              "      <td>6.000000</td>\n",
              "      <td>15.000000</td>\n",
              "      <td>...</td>\n",
              "      <td>0.000000</td>\n",
              "      <td>0.000000</td>\n",
              "      <td>0.000000</td>\n",
              "      <td>0.000000</td>\n",
              "      <td>0.000000</td>\n",
              "      <td>109.000000</td>\n",
              "      <td>0.000000</td>\n",
              "      <td>5.000000</td>\n",
              "      <td>264.000000</td>\n",
              "      <td>-1.000000</td>\n",
              "    </tr>\n",
              "    <tr>\n",
              "      <th>max</th>\n",
              "      <td>2359.000000</td>\n",
              "      <td>23.000000</td>\n",
              "      <td>59.000000</td>\n",
              "      <td>21.000000</td>\n",
              "      <td>15607.000000</td>\n",
              "      <td>37.000000</td>\n",
              "      <td>84500.000000</td>\n",
              "      <td>13591.000000</td>\n",
              "      <td>11.000000</td>\n",
              "      <td>42.000000</td>\n",
              "      <td>...</td>\n",
              "      <td>1.000000</td>\n",
              "      <td>1.000000</td>\n",
              "      <td>1.000000</td>\n",
              "      <td>1.000000</td>\n",
              "      <td>1.000000</td>\n",
              "      <td>14918.000000</td>\n",
              "      <td>25.000000</td>\n",
              "      <td>936.000000</td>\n",
              "      <td>1736.000000</td>\n",
              "      <td>1.000000</td>\n",
              "    </tr>\n",
              "  </tbody>\n",
              "</table>\n",
              "<p>8 rows × 42 columns</p>\n",
              "</div>\n",
              "    <div class=\"colab-df-buttons\">\n",
              "\n",
              "  <div class=\"colab-df-container\">\n",
              "    <button class=\"colab-df-convert\" onclick=\"convertToInteractive('df-6e10f1b1-6277-4419-b421-288bb14a90f7')\"\n",
              "            title=\"Convert this dataframe to an interactive table.\"\n",
              "            style=\"display:none;\">\n",
              "\n",
              "  <svg xmlns=\"http://www.w3.org/2000/svg\" height=\"24px\" viewBox=\"0 -960 960 960\">\n",
              "    <path d=\"M120-120v-720h720v720H120Zm60-500h600v-160H180v160Zm220 220h160v-160H400v160Zm0 220h160v-160H400v160ZM180-400h160v-160H180v160Zm440 0h160v-160H620v160ZM180-180h160v-160H180v160Zm440 0h160v-160H620v160Z\"/>\n",
              "  </svg>\n",
              "    </button>\n",
              "\n",
              "  <style>\n",
              "    .colab-df-container {\n",
              "      display:flex;\n",
              "      gap: 12px;\n",
              "    }\n",
              "\n",
              "    .colab-df-convert {\n",
              "      background-color: #E8F0FE;\n",
              "      border: none;\n",
              "      border-radius: 50%;\n",
              "      cursor: pointer;\n",
              "      display: none;\n",
              "      fill: #1967D2;\n",
              "      height: 32px;\n",
              "      padding: 0 0 0 0;\n",
              "      width: 32px;\n",
              "    }\n",
              "\n",
              "    .colab-df-convert:hover {\n",
              "      background-color: #E2EBFA;\n",
              "      box-shadow: 0px 1px 2px rgba(60, 64, 67, 0.3), 0px 1px 3px 1px rgba(60, 64, 67, 0.15);\n",
              "      fill: #174EA6;\n",
              "    }\n",
              "\n",
              "    .colab-df-buttons div {\n",
              "      margin-bottom: 4px;\n",
              "    }\n",
              "\n",
              "    [theme=dark] .colab-df-convert {\n",
              "      background-color: #3B4455;\n",
              "      fill: #D2E3FC;\n",
              "    }\n",
              "\n",
              "    [theme=dark] .colab-df-convert:hover {\n",
              "      background-color: #434B5C;\n",
              "      box-shadow: 0px 1px 3px 1px rgba(0, 0, 0, 0.15);\n",
              "      filter: drop-shadow(0px 1px 2px rgba(0, 0, 0, 0.3));\n",
              "      fill: #FFFFFF;\n",
              "    }\n",
              "  </style>\n",
              "\n",
              "    <script>\n",
              "      const buttonEl =\n",
              "        document.querySelector('#df-6e10f1b1-6277-4419-b421-288bb14a90f7 button.colab-df-convert');\n",
              "      buttonEl.style.display =\n",
              "        google.colab.kernel.accessAllowed ? 'block' : 'none';\n",
              "\n",
              "      async function convertToInteractive(key) {\n",
              "        const element = document.querySelector('#df-6e10f1b1-6277-4419-b421-288bb14a90f7');\n",
              "        const dataTable =\n",
              "          await google.colab.kernel.invokeFunction('convertToInteractive',\n",
              "                                                    [key], {});\n",
              "        if (!dataTable) return;\n",
              "\n",
              "        const docLinkHtml = 'Like what you see? Visit the ' +\n",
              "          '<a target=\"_blank\" href=https://colab.research.google.com/notebooks/data_table.ipynb>data table notebook</a>'\n",
              "          + ' to learn more about interactive tables.';\n",
              "        element.innerHTML = '';\n",
              "        dataTable['output_type'] = 'display_data';\n",
              "        await google.colab.output.renderOutput(dataTable, element);\n",
              "        const docLink = document.createElement('div');\n",
              "        docLink.innerHTML = docLinkHtml;\n",
              "        element.appendChild(docLink);\n",
              "      }\n",
              "    </script>\n",
              "  </div>\n",
              "\n",
              "\n",
              "<div id=\"df-f08cd0d7-5b39-4332-af7a-d0bca201691f\">\n",
              "  <button class=\"colab-df-quickchart\" onclick=\"quickchart('df-f08cd0d7-5b39-4332-af7a-d0bca201691f')\"\n",
              "            title=\"Suggest charts.\"\n",
              "            style=\"display:none;\">\n",
              "\n",
              "<svg xmlns=\"http://www.w3.org/2000/svg\" height=\"24px\"viewBox=\"0 0 24 24\"\n",
              "     width=\"24px\">\n",
              "    <g>\n",
              "        <path d=\"M19 3H5c-1.1 0-2 .9-2 2v14c0 1.1.9 2 2 2h14c1.1 0 2-.9 2-2V5c0-1.1-.9-2-2-2zM9 17H7v-7h2v7zm4 0h-2V7h2v10zm4 0h-2v-4h2v4z\"/>\n",
              "    </g>\n",
              "</svg>\n",
              "  </button>\n",
              "\n",
              "<style>\n",
              "  .colab-df-quickchart {\n",
              "      --bg-color: #E8F0FE;\n",
              "      --fill-color: #1967D2;\n",
              "      --hover-bg-color: #E2EBFA;\n",
              "      --hover-fill-color: #174EA6;\n",
              "      --disabled-fill-color: #AAA;\n",
              "      --disabled-bg-color: #DDD;\n",
              "  }\n",
              "\n",
              "  [theme=dark] .colab-df-quickchart {\n",
              "      --bg-color: #3B4455;\n",
              "      --fill-color: #D2E3FC;\n",
              "      --hover-bg-color: #434B5C;\n",
              "      --hover-fill-color: #FFFFFF;\n",
              "      --disabled-bg-color: #3B4455;\n",
              "      --disabled-fill-color: #666;\n",
              "  }\n",
              "\n",
              "  .colab-df-quickchart {\n",
              "    background-color: var(--bg-color);\n",
              "    border: none;\n",
              "    border-radius: 50%;\n",
              "    cursor: pointer;\n",
              "    display: none;\n",
              "    fill: var(--fill-color);\n",
              "    height: 32px;\n",
              "    padding: 0;\n",
              "    width: 32px;\n",
              "  }\n",
              "\n",
              "  .colab-df-quickchart:hover {\n",
              "    background-color: var(--hover-bg-color);\n",
              "    box-shadow: 0 1px 2px rgba(60, 64, 67, 0.3), 0 1px 3px 1px rgba(60, 64, 67, 0.15);\n",
              "    fill: var(--button-hover-fill-color);\n",
              "  }\n",
              "\n",
              "  .colab-df-quickchart-complete:disabled,\n",
              "  .colab-df-quickchart-complete:disabled:hover {\n",
              "    background-color: var(--disabled-bg-color);\n",
              "    fill: var(--disabled-fill-color);\n",
              "    box-shadow: none;\n",
              "  }\n",
              "\n",
              "  .colab-df-spinner {\n",
              "    border: 2px solid var(--fill-color);\n",
              "    border-color: transparent;\n",
              "    border-bottom-color: var(--fill-color);\n",
              "    animation:\n",
              "      spin 1s steps(1) infinite;\n",
              "  }\n",
              "\n",
              "  @keyframes spin {\n",
              "    0% {\n",
              "      border-color: transparent;\n",
              "      border-bottom-color: var(--fill-color);\n",
              "      border-left-color: var(--fill-color);\n",
              "    }\n",
              "    20% {\n",
              "      border-color: transparent;\n",
              "      border-left-color: var(--fill-color);\n",
              "      border-top-color: var(--fill-color);\n",
              "    }\n",
              "    30% {\n",
              "      border-color: transparent;\n",
              "      border-left-color: var(--fill-color);\n",
              "      border-top-color: var(--fill-color);\n",
              "      border-right-color: var(--fill-color);\n",
              "    }\n",
              "    40% {\n",
              "      border-color: transparent;\n",
              "      border-right-color: var(--fill-color);\n",
              "      border-top-color: var(--fill-color);\n",
              "    }\n",
              "    60% {\n",
              "      border-color: transparent;\n",
              "      border-right-color: var(--fill-color);\n",
              "    }\n",
              "    80% {\n",
              "      border-color: transparent;\n",
              "      border-right-color: var(--fill-color);\n",
              "      border-bottom-color: var(--fill-color);\n",
              "    }\n",
              "    90% {\n",
              "      border-color: transparent;\n",
              "      border-bottom-color: var(--fill-color);\n",
              "    }\n",
              "  }\n",
              "</style>\n",
              "\n",
              "  <script>\n",
              "    async function quickchart(key) {\n",
              "      const quickchartButtonEl =\n",
              "        document.querySelector('#' + key + ' button');\n",
              "      quickchartButtonEl.disabled = true;  // To prevent multiple clicks.\n",
              "      quickchartButtonEl.classList.add('colab-df-spinner');\n",
              "      try {\n",
              "        const charts = await google.colab.kernel.invokeFunction(\n",
              "            'suggestCharts', [key], {});\n",
              "      } catch (error) {\n",
              "        console.error('Error during call to suggestCharts:', error);\n",
              "      }\n",
              "      quickchartButtonEl.classList.remove('colab-df-spinner');\n",
              "      quickchartButtonEl.classList.add('colab-df-quickchart-complete');\n",
              "    }\n",
              "    (() => {\n",
              "      let quickchartButtonEl =\n",
              "        document.querySelector('#df-f08cd0d7-5b39-4332-af7a-d0bca201691f button');\n",
              "      quickchartButtonEl.style.display =\n",
              "        google.colab.kernel.accessAllowed ? 'block' : 'none';\n",
              "    })();\n",
              "  </script>\n",
              "</div>\n",
              "    </div>\n",
              "  </div>\n"
            ]
          },
          "metadata": {},
          "execution_count": 5
        }
      ]
    },
    {
      "cell_type": "code",
      "source": [
        "data.columns"
      ],
      "metadata": {
        "colab": {
          "base_uri": "https://localhost:8080/"
        },
        "id": "pF0ENsQBgcpe",
        "outputId": "edd8522e-7bec-4f84-aeaa-2d8712291b99"
      },
      "execution_count": null,
      "outputs": [
        {
          "output_type": "execute_result",
          "data": {
            "text/plain": [
              "Index(['0', '0.1', '0.2', '7', '65', '7.1', '71', '9', '6', '11', '6.1', '23',\n",
              "       '95', '5', '11.1', '1.2', '5.1', '1', '0.3', '0.4', '0.5', '0.6', '0.7',\n",
              "       '0.8', '0.9', '0.10', '0.11', '0.12', '0.13', '0.14', '0.15', '1.1',\n",
              "       '0.16', '0.17', '0.18', '0.19', '0.20', '65.1', '0.21', '0.22', '208',\n",
              "       '-1'],\n",
              "      dtype='object')"
            ]
          },
          "metadata": {},
          "execution_count": 6
        }
      ]
    },
    {
      "cell_type": "markdown",
      "source": [
        "#rename the columns"
      ],
      "metadata": {
        "id": "Mq7Q_UeIgpIL"
      }
    },
    {
      "cell_type": "code",
      "source": [
        "import pandas as pd\n",
        "\n",
        "def rename_columns(data):\n",
        "    # Create a dictionary to map the old column names to the new names\n",
        "    column_mapping1 = {\n",
        "        '0': 'time_H_M',\n",
        "        '0.1': 'time_H',\n",
        "        '0.2': 'time_M',\n",
        "        '7': 'time_S',\n",
        "    }\n",
        "\n",
        "    data.rename(columns=column_mapping1, inplace=True)\n",
        "\n",
        "    # Get the original column names from 4 to 41\n",
        "    original_columns = data.columns[4:42]\n",
        "\n",
        "    # Generate new column names\n",
        "    new_columns = [f'feature_{i+1}' for i in range(37)]\n",
        "\n",
        "    # Create a dictionary to map old column names to new names\n",
        "    column_mapping2 = dict(zip(original_columns, new_columns))\n",
        "\n",
        "    # Rename the columns\n",
        "    data.rename(columns=column_mapping2, inplace=True)\n",
        "\n",
        "    # Create a dictionary to map the old column name '-1' to 'target'\n",
        "    column_mapping3 = {\n",
        "        '-1': 'target',\n",
        "    }\n",
        "\n",
        "    # Use the rename method to rename the columns\n",
        "    data.rename(columns=column_mapping3, inplace=True)"
      ],
      "metadata": {
        "id": "q4k7rzlWgh_a"
      },
      "execution_count": null,
      "outputs": []
    },
    {
      "cell_type": "markdown",
      "source": [
        "#call the function to rename the columns"
      ],
      "metadata": {
        "id": "KFEzEA2rhcVd"
      }
    },
    {
      "cell_type": "code",
      "source": [
        "rename_columns(data)"
      ],
      "metadata": {
        "id": "oM9tufpuhQk6"
      },
      "execution_count": null,
      "outputs": []
    },
    {
      "cell_type": "markdown",
      "source": [
        "#check for the new column's names"
      ],
      "metadata": {
        "id": "Zt6a5ir-hgol"
      }
    },
    {
      "cell_type": "code",
      "source": [
        "data.columns"
      ],
      "metadata": {
        "colab": {
          "base_uri": "https://localhost:8080/"
        },
        "id": "l5AdoHqEhWon",
        "outputId": "292d09bb-11a7-44ee-b7cb-afdb970079ba"
      },
      "execution_count": null,
      "outputs": [
        {
          "output_type": "execute_result",
          "data": {
            "text/plain": [
              "Index(['time_H_M', 'time_H', 'time_M', 'time_S', 'feature_1', 'feature_2',\n",
              "       'feature_3', 'feature_4', 'feature_5', 'feature_6', 'feature_7',\n",
              "       'feature_8', 'feature_9', 'feature_10', 'feature_11', 'feature_12',\n",
              "       'feature_13', 'feature_14', 'feature_15', 'feature_16', 'feature_17',\n",
              "       'feature_18', 'feature_19', 'feature_20', 'feature_21', 'feature_22',\n",
              "       'feature_23', 'feature_24', 'feature_25', 'feature_26', 'feature_27',\n",
              "       'feature_28', 'feature_29', 'feature_30', 'feature_31', 'feature_32',\n",
              "       'feature_33', 'feature_34', 'feature_35', 'feature_36', 'feature_37',\n",
              "       'target'],\n",
              "      dtype='object')"
            ]
          },
          "metadata": {},
          "execution_count": 9
        }
      ]
    },
    {
      "cell_type": "markdown",
      "source": [
        "#start preprocessing the data"
      ],
      "metadata": {
        "id": "axasEetthp4f"
      }
    },
    {
      "cell_type": "markdown",
      "source": [
        "* replace the value -1 with value 0 in the target column\n",
        "* Solve the problem of imbalance between the labels\n",
        "* Scaling and normalization on the data\n",
        "* define the Features and the Target\n",
        "* split the data into train and test\n"
      ],
      "metadata": {
        "id": "zM93x_jVhtYK"
      }
    },
    {
      "cell_type": "code",
      "source": [
        "data['target'] = data['target'].replace(-1, 0)"
      ],
      "metadata": {
        "id": "I8T01Apyjeni"
      },
      "execution_count": null,
      "outputs": []
    },
    {
      "cell_type": "code",
      "source": [
        "# The data label is unbalanced\n",
        "data[\"target\"].value_counts()"
      ],
      "metadata": {
        "colab": {
          "base_uri": "https://localhost:8080/"
        },
        "id": "SO4SmgaJhZoJ",
        "outputId": "4e5c43fd-c51c-44ff-a04b-07b455a40569"
      },
      "execution_count": null,
      "outputs": [
        {
          "output_type": "execute_result",
          "data": {
            "text/plain": [
              "0    6959\n",
              "1     240\n",
              "Name: target, dtype: int64"
            ]
          },
          "metadata": {},
          "execution_count": 11
        }
      ]
    },
    {
      "cell_type": "code",
      "source": [
        "\n",
        "# Count the occurrences of each unique value in the 'Category' column\n",
        "value_counts = data['target'].value_counts()\n",
        "\n",
        "# Plot the bar chart\n",
        "plt.bar(value_counts.index, value_counts.values)\n",
        "\n",
        "# Add labels and title\n",
        "plt.xlabel('target')\n",
        "plt.ylabel('Count')\n",
        "plt.title('Bar Plot of target')\n",
        "\n",
        "# Show the plot\n",
        "plt.show()"
      ],
      "metadata": {
        "colab": {
          "base_uri": "https://localhost:8080/",
          "height": 472
        },
        "id": "grngNIchiwEv",
        "outputId": "41fa0f7b-634a-4d81-ffc4-7a61419ff4af"
      },
      "execution_count": null,
      "outputs": [
        {
          "output_type": "display_data",
          "data": {
            "text/plain": [
              "<Figure size 640x480 with 1 Axes>"
            ],
            "image/png": "[encoded data removed]"
          },
          "metadata": {}
        }
      ]
    },
    {
      "cell_type": "code",
      "source": [
        "#solve the problem with SMOTE\n",
        "lab=data[\"target\"]\n",
        "smote = SMOTE(sampling_strategy={1: 7000, 0: 7000}, random_state=42)\n",
        "data, lab = smote.fit_resample(data, lab)"
      ],
      "metadata": {
        "colab": {
          "base_uri": "https://localhost:8080/"
        },
        "id": "CMDrT65hi1Dc",
        "outputId": "31df99f2-a06b-4274-a2c8-5f1844e3cdcd"
      },
      "execution_count": null,
      "outputs": [
        {
          "output_type": "stream",
          "name": "stderr",
          "text": [
            "/usr/local/lib/python3.10/dist-packages/imblearn/utils/_validation.py:313: UserWarning: After over-sampling, the number of samples (7000) in class 1 will be larger than the number of samples in the majority class (class #0 -> 6959)\n",
            "  warnings.warn(\n",
            "/usr/local/lib/python3.10/dist-packages/imblearn/utils/_validation.py:313: UserWarning: After over-sampling, the number of samples (7000) in class 0 will be larger than the number of samples in the majority class (class #0 -> 6959)\n",
            "  warnings.warn(\n"
          ]
        }
      ]
    },
    {
      "cell_type": "code",
      "source": [
        "#verify that the imbalance problem is solved\n",
        "\n",
        "# Count the occurrences of each unique value in the 'Category' column\n",
        "value_counts = data['target'].value_counts()\n",
        "\n",
        "# Plot the bar chart\n",
        "plt.bar(value_counts.index, value_counts.values)\n",
        "\n",
        "# Add labels and title\n",
        "plt.xlabel('target')\n",
        "plt.ylabel('Count')\n",
        "plt.title('Bar Plot of target')\n",
        "\n",
        "# Show the plot\n",
        "plt.show()"
      ],
      "metadata": {
        "colab": {
          "base_uri": "https://localhost:8080/",
          "height": 472
        },
        "id": "0I07rfaDi-yN",
        "outputId": "20e318f0-2d5d-4179-dc53-ac2007caaead"
      },
      "execution_count": null,
      "outputs": [
        {
          "output_type": "display_data",
          "data": {
            "text/plain": [
              "<Figure size 640x480 with 1 Axes>"
            ],
            "image/png": "[encoded data removed]"
          },
          "metadata": {}
        }
      ]
    },
    {
      "cell_type": "markdown",
      "source": [
        "# Extract features and target variables"
      ],
      "metadata": {
        "id": "AoX4ZmNRj4OM"
      }
    },
    {
      "cell_type": "code",
      "source": [
        "X = data.iloc[:, 4:41]  # Features (columns 4 to 40)\n",
        "y = data['target']   # Target (column 41)"
      ],
      "metadata": {
        "id": "1uRbS0GWjuPk"
      },
      "execution_count": null,
      "outputs": []
    },
    {
      "cell_type": "markdown",
      "source": [
        "\n",
        "# Split the data into training and testing sets"
      ],
      "metadata": {
        "id": "zS2qRahBj7k_"
      }
    },
    {
      "cell_type": "code",
      "source": [
        "X_train, X_test, y_train, y_test = train_test_split(X, y, test_size=0.2, random_state=42)\n"
      ],
      "metadata": {
        "id": "t-Y-8tRwj4zo"
      },
      "execution_count": null,
      "outputs": []
    },
    {
      "cell_type": "markdown",
      "source": [
        "# Scale and normalize the features using Min-Max scaling"
      ],
      "metadata": {
        "id": "EFWwRd9Rj-H2"
      }
    },
    {
      "cell_type": "code",
      "source": [
        "\n",
        "scaler = MinMaxScaler()\n",
        "X_train = scaler.fit_transform(X_train)\n",
        "X_test= scaler.transform(X_test)"
      ],
      "metadata": {
        "id": "8JTEmjgQj8nH"
      },
      "execution_count": null,
      "outputs": []
    },
    {
      "cell_type": "markdown",
      "source": [
        "# Fit and evaluate machine learning models"
      ],
      "metadata": {
        "id": "8EdxsGjtkB_5"
      }
    },
    {
      "cell_type": "markdown",
      "source": [
        "#support vectors machine (SVM)"
      ],
      "metadata": {
        "id": "tggx9WT4kGSf"
      }
    },
    {
      "cell_type": "code",
      "source": [
        "svm_model = SVC()\n",
        "svm_model.fit(X_train, y_train)\n",
        "svm_accuracy = svm_model.score(X_test, y_test)\n",
        "print(f\"SVM Accuracy: {svm_accuracy:.2f}\")\n",
        "# Make predictions on the test set\n",
        "svm_predictions = svm_model.predict(X_test)\n",
        "# Calculate precision, recall, and F1-score for SVM model\n",
        "svm_precision = precision_score(y_test, svm_predictions)\n",
        "svm_recall = recall_score(y_test, svm_predictions)\n",
        "svm_f1 = f1_score(y_test, svm_predictions)\n",
        "print(\"SVM Precision:\", svm_precision)\n",
        "print(\"SVM Recall:\", svm_recall)\n",
        "print(\"SVM F1 Score:\", svm_f1)\n"
      ],
      "metadata": {
        "colab": {
          "base_uri": "https://localhost:8080/"
        },
        "id": "LVBkwuEnklat",
        "outputId": "cd967d14-95c2-4b9c-ae22-96bfcca59c08"
      },
      "execution_count": null,
      "outputs": [
        {
          "output_type": "stream",
          "name": "stdout",
          "text": [
            "SVM Accuracy: 0.96\n",
            "SVM Precision: 0.9657933042212519\n",
            "SVM Recall: 0.9581227436823104\n",
            "SVM F1 Score: 0.9619427328742298\n"
          ]
        }
      ]
    },
    {
      "cell_type": "markdown",
      "source": [
        "# Decision Tree"
      ],
      "metadata": {
        "id": "OxqKFQB9kqNU"
      }
    },
    {
      "cell_type": "code",
      "source": [
        "dt_model = DecisionTreeClassifier()\n",
        "dt_model.fit(X_train, y_train)\n",
        "dt_accuracy = dt_model.score(X_test, y_test)\n",
        "print(f\"Decision Tree Accuracy: {dt_accuracy:.2f}\")\n",
        "# Make predictions on the test set\n",
        "dt_predictions = dt_model.predict(X_test)\n",
        "# Calculate precision, recall, and F1-score for DT model\n",
        "dt_precision = precision_score(y_test, dt_predictions)\n",
        "dt_recall = recall_score(y_test, dt_predictions)\n",
        "dt_f1 = f1_score(y_test, dt_predictions)\n",
        "print(\"\\nDecision Tree Precision:\", dt_precision)\n",
        "print(\"Decision Tree Recall:\", dt_recall)\n",
        "print(\"Decision Tree F1 Score:\", dt_f1)"
      ],
      "metadata": {
        "colab": {
          "base_uri": "https://localhost:8080/"
        },
        "id": "wFyNElZLkqXN",
        "outputId": "e3823a44-4a20-4f92-92cd-863c42b79c40"
      },
      "execution_count": null,
      "outputs": [
        {
          "output_type": "stream",
          "name": "stdout",
          "text": [
            "Decision Tree Accuracy: 0.98\n",
            "\n",
            "Decision Tree Precision: 0.9673295454545454\n",
            "Decision Tree Recall: 0.9833935018050541\n",
            "Decision Tree F1 Score: 0.9752953813104188\n"
          ]
        }
      ]
    },
    {
      "cell_type": "markdown",
      "source": [
        "\n",
        "\n",
        "# Random Forest\n"
      ],
      "metadata": {
        "id": "yP56MyraktjW"
      }
    },
    {
      "cell_type": "code",
      "source": [
        "rf_model = RandomForestClassifier()\n",
        "rf_model.fit(X_train, y_train)\n",
        "rf_accuracy = rf_model.score(X_test, y_test)\n",
        "print(f\"Random Forest Accuracy: {rf_accuracy:.2f}\")\n",
        "# Make predictions on the test set\n",
        "rf_predictions = rf_model.predict(X_test)\n",
        "# Calculate precision, recall, and F1-score for RF model\n",
        "rf_precision = precision_score(y_test, rf_predictions)\n",
        "rf_recall = recall_score(y_test, rf_predictions)\n",
        "rf_f1 = f1_score(y_test, rf_predictions)\n",
        "print(\"\\nRandom Forest Precision:\", rf_precision)\n",
        "print(\"Random Forest Recall:\", rf_recall)\n",
        "print(\"Random Forest F1 Score:\", rf_f1)"
      ],
      "metadata": {
        "colab": {
          "base_uri": "https://localhost:8080/"
        },
        "id": "aOpqyLBwkvY5",
        "outputId": "7e5519a2-ed61-4764-8b2e-e621f8394bcc"
      },
      "execution_count": null,
      "outputs": [
        {
          "output_type": "stream",
          "name": "stdout",
          "text": [
            "Random Forest Accuracy: 0.99\n",
            "\n",
            "Random Forest Precision: 0.9956427015250545\n",
            "Random Forest Recall: 0.9898916967509025\n",
            "Random Forest F1 Score: 0.99275887038378\n"
          ]
        }
      ]
    },
    {
      "cell_type": "markdown",
      "source": [
        "\n",
        "# XGBoost"
      ],
      "metadata": {
        "id": "UtTDvfpUkxDe"
      }
    },
    {
      "cell_type": "code",
      "source": [
        "xgb_model = xgb.XGBClassifier()\n",
        "xgb_model.fit(X_train, y_train)\n",
        "xgb_accuracy = xgb_model.score(X_test, y_test)\n",
        "print(f\"XGBoost Accuracy: {xgb_accuracy:.2f}\")\n",
        "# Make predictions on the test set\n",
        "xgboost_predictions = xgb_model.predict(X_test)\n",
        "# Calculate precision, recall, and F1-score for XGboost model\n",
        "xgboost_precision = precision_score(y_test, xgboost_predictions)\n",
        "xgboost_recall = recall_score(y_test, xgboost_predictions)\n",
        "xgboost_f1 = f1_score(y_test, xgboost_predictions)\n",
        "print(\"\\nXGBoost Precision:\", xgboost_precision)\n",
        "print(\"XGBoost Recall:\", xgboost_recall)\n",
        "print(\"XGBoost F1 Score:\", xgboost_f1)"
      ],
      "metadata": {
        "colab": {
          "base_uri": "https://localhost:8080/"
        },
        "id": "1VhtAfW5j_wu",
        "outputId": "72aeec8b-25c4-4d03-e12c-6478545becb7"
      },
      "execution_count": null,
      "outputs": [
        {
          "output_type": "stream",
          "name": "stdout",
          "text": [
            "XGBoost Accuracy: 0.99\n",
            "\n",
            "XGBoost Precision: 0.9928005759539237\n",
            "XGBoost Recall: 0.9956678700361011\n",
            "XGBoost F1 Score: 0.9942321557317952\n"
          ]
        }
      ]
    },
    {
      "cell_type": "markdown",
      "source": [
        "#make predictions to detect the normal and anomalous nodes"
      ],
      "metadata": {
        "id": "wp9xxilRndAk"
      }
    },
    {
      "cell_type": "code",
      "source": [
        "# Select the first 30 rows from X_test\n",
        "subset_X_test = X_test[:30]\n",
        "# Make predictions on the subset_X_test using random forest\n",
        "rf_predictions = rf_model.predict(subset_X_test)"
      ],
      "metadata": {
        "id": "eU7CCsBVmVF8"
      },
      "execution_count": null,
      "outputs": []
    },
    {
      "cell_type": "code",
      "source": [
        "import networkx as nx\n",
        "import matplotlib.pyplot as plt\n",
        "\n",
        "# Create a NetworkX graph\n",
        "G = nx.Graph()\n",
        "\n",
        "# Define the dimensions of the grid\n",
        "num_rows = 5\n",
        "num_cols = 6\n",
        "\n",
        "# Create nodes in a grid pattern\n",
        "for row in range(num_rows):\n",
        "    for col in range(num_cols):\n",
        "        node_name = f\"node_{row}_{col}\"\n",
        "        G.add_node(node_name, pos=(col, -row))\n",
        "\n",
        "\n",
        "# Add anomalous and normal nodes based on predictions\n",
        "for i, prediction in enumerate(rf_predictions):\n",
        "    node_name = f\"node_{i // num_cols}_{i % num_cols}\"\n",
        "    G.nodes[node_name]['anomalous'] = prediction == 0\n",
        "\n"
      ],
      "metadata": {
        "id": "86_vSIBcoglE"
      },
      "execution_count": null,
      "outputs": []
    },
    {
      "cell_type": "markdown",
      "source": [
        "# Create layout for the grid"
      ],
      "metadata": {
        "id": "F0qfwT4ip-89"
      }
    },
    {
      "cell_type": "code",
      "source": [
        "\n",
        "pos = {node: (col, -row) for node, (col, row) in nx.get_node_attributes(G, 'pos').items()}\n",
        "\n",
        "# Add edges to connect adjacent nodes in the grid\n",
        "for row in range(num_rows):\n",
        "    for col in range(num_cols):\n",
        "        current_node_name = f\"node_{row}_{col}\"\n",
        "        if row > 0:\n",
        "            neighbor_node_name = f\"node_{row - 1}_{col}\"\n",
        "            G.add_edge(current_node_name, neighbor_node_name)\n",
        "        if col > 0:\n",
        "            neighbor_node_name = f\"node_{row}_{col - 1}\"\n",
        "            G.add_edge(current_node_name, neighbor_node_name)\n",
        "\n"
      ],
      "metadata": {
        "id": "CqbRuWPOp2WW"
      },
      "execution_count": null,
      "outputs": []
    },
    {
      "cell_type": "markdown",
      "source": [
        "# Separate anomalous and normal nodes"
      ],
      "metadata": {
        "id": "_AbOuOzxp9RH"
      }
    },
    {
      "cell_type": "code",
      "source": [
        "\n",
        "anomalous_nodes = [node for node, data in G.nodes(data=True) if data.get('anomalous')]\n",
        "normal_nodes = [node for node in G.nodes() if node not in anomalous_nodes]\n"
      ],
      "metadata": {
        "id": "clrgRa11p2mH"
      },
      "execution_count": null,
      "outputs": []
    },
    {
      "cell_type": "markdown",
      "source": [
        "\n",
        "# Draw the graph"
      ],
      "metadata": {
        "id": "3GLA1mVGp8CD"
      }
    },
    {
      "cell_type": "code",
      "source": [
        "\n",
        "plt.figure(figsize=(10, 6))\n",
        "nx.draw_networkx_nodes(G, pos, nodelist=normal_nodes, node_color='lightblue', node_size=500)\n",
        "nx.draw_networkx_nodes(G, pos, nodelist=anomalous_nodes, node_color='red', node_size=800)\n",
        "nx.draw_networkx_edges(G, pos, edgelist=G.edges(), width=1, alpha=0.7, edge_color='gray')\n",
        "nx.draw_networkx_labels(G, pos, font_size=8)\n",
        "plt.title(\"Network Anomalies Detected\")\n",
        "plt.legend([\"Normal Node\", \"Anomalous Node\"])\n",
        "plt.axis('off')  # Turn off the axis\n",
        "\n",
        "# Display the graph\n",
        "plt.show()\n"
      ],
      "metadata": {
        "colab": {
          "base_uri": "https://localhost:8080/",
          "height": 521
        },
        "id": "DUH37-dmp6oG",
        "outputId": "1f7f5c05-47c4-42c1-be2f-5ee963da3499"
      },
      "execution_count": null,
      "outputs": [
        {
          "output_type": "display_data",
          "data": {
            "text/plain": [
              "<Figure size 1000x600 with 1 Axes>"
            ],
            "image/png": "[encoded data removed]"
          },
          "metadata": {}
        }
      ]
    }
  ]
}